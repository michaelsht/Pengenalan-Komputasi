{
  "cells": [
    {
      "cell_type": "markdown",
      "metadata": {
        "id": "t46dcHnZsbEA"
      },
      "source": [
        "**TUGAS BESAR 2 PENGENALAN KOMPUTASI:**"
      ]
    },
    {
      "cell_type": "code",
      "execution_count": null,
      "metadata": {
        "id": "4_TEhGUJJl49"
      },
      "outputs": [],
      "source": [
        "import pandas as pd\n",
        "from matplotlib import pyplot as plt "
      ]
    },
    {
      "cell_type": "markdown",
      "metadata": {
        "id": "udHXYJ3TrYSn"
      },
      "source": [
        "**DESKRIPSI DATA DAN FILE**"
      ]
    },
    {
      "cell_type": "code",
      "execution_count": null,
      "metadata": {
        "colab": {
          "base_uri": "https://localhost:8080/",
          "height": 676
        },
        "id": "vSaosckiJpxP",
        "outputId": "6d2fdbce-200c-4db8-f954-3e369970fd44"
      },
      "outputs": [
        {
          "data": {
            "text/html": [
              "\n",
              "  <div id=\"df-7f6790fc-bb5e-44a1-92bb-c3a1979590b0\">\n",
              "    <div class=\"colab-df-container\">\n",
              "      <div>\n",
              "<style scoped>\n",
              "    .dataframe tbody tr th:only-of-type {\n",
              "        vertical-align: middle;\n",
              "    }\n",
              "\n",
              "    .dataframe tbody tr th {\n",
              "        vertical-align: top;\n",
              "    }\n",
              "\n",
              "    .dataframe thead th {\n",
              "        text-align: right;\n",
              "    }\n",
              "</style>\n",
              "<table border=\"1\" class=\"dataframe\">\n",
              "  <thead>\n",
              "    <tr style=\"text-align: right;\">\n",
              "      <th></th>\n",
              "      <th>Model</th>\n",
              "      <th>Release date</th>\n",
              "      <th>Max resolution</th>\n",
              "      <th>Low resolution</th>\n",
              "      <th>Effective pixels</th>\n",
              "      <th>Zoom wide (W)</th>\n",
              "      <th>Zoom tele (T)</th>\n",
              "      <th>Normal focus range</th>\n",
              "      <th>Macro focus range</th>\n",
              "      <th>Storage included</th>\n",
              "      <th>Weight (inc. batteries)</th>\n",
              "      <th>Dimensions</th>\n",
              "      <th>Price</th>\n",
              "    </tr>\n",
              "  </thead>\n",
              "  <tbody>\n",
              "    <tr>\n",
              "      <th>0</th>\n",
              "      <td>Agfa ePhoto 1280</td>\n",
              "      <td>1997</td>\n",
              "      <td>1024.0</td>\n",
              "      <td>640.0</td>\n",
              "      <td>0.0</td>\n",
              "      <td>38.0</td>\n",
              "      <td>114.0</td>\n",
              "      <td>70.0</td>\n",
              "      <td>40.0</td>\n",
              "      <td>4.0</td>\n",
              "      <td>420.0</td>\n",
              "      <td>95.0</td>\n",
              "      <td>179.0</td>\n",
              "    </tr>\n",
              "    <tr>\n",
              "      <th>1</th>\n",
              "      <td>Agfa ePhoto 1680</td>\n",
              "      <td>1998</td>\n",
              "      <td>1280.0</td>\n",
              "      <td>640.0</td>\n",
              "      <td>1.0</td>\n",
              "      <td>38.0</td>\n",
              "      <td>114.0</td>\n",
              "      <td>50.0</td>\n",
              "      <td>0.0</td>\n",
              "      <td>4.0</td>\n",
              "      <td>420.0</td>\n",
              "      <td>158.0</td>\n",
              "      <td>179.0</td>\n",
              "    </tr>\n",
              "    <tr>\n",
              "      <th>2</th>\n",
              "      <td>Agfa ePhoto CL18</td>\n",
              "      <td>2000</td>\n",
              "      <td>640.0</td>\n",
              "      <td>0.0</td>\n",
              "      <td>0.0</td>\n",
              "      <td>45.0</td>\n",
              "      <td>45.0</td>\n",
              "      <td>0.0</td>\n",
              "      <td>0.0</td>\n",
              "      <td>2.0</td>\n",
              "      <td>0.0</td>\n",
              "      <td>0.0</td>\n",
              "      <td>179.0</td>\n",
              "    </tr>\n",
              "    <tr>\n",
              "      <th>3</th>\n",
              "      <td>Agfa ePhoto CL30</td>\n",
              "      <td>1999</td>\n",
              "      <td>1152.0</td>\n",
              "      <td>640.0</td>\n",
              "      <td>0.0</td>\n",
              "      <td>35.0</td>\n",
              "      <td>35.0</td>\n",
              "      <td>0.0</td>\n",
              "      <td>0.0</td>\n",
              "      <td>4.0</td>\n",
              "      <td>0.0</td>\n",
              "      <td>0.0</td>\n",
              "      <td>269.0</td>\n",
              "    </tr>\n",
              "    <tr>\n",
              "      <th>4</th>\n",
              "      <td>Agfa ePhoto CL30 Clik!</td>\n",
              "      <td>1999</td>\n",
              "      <td>1152.0</td>\n",
              "      <td>640.0</td>\n",
              "      <td>0.0</td>\n",
              "      <td>43.0</td>\n",
              "      <td>43.0</td>\n",
              "      <td>50.0</td>\n",
              "      <td>0.0</td>\n",
              "      <td>40.0</td>\n",
              "      <td>300.0</td>\n",
              "      <td>128.0</td>\n",
              "      <td>1299.0</td>\n",
              "    </tr>\n",
              "    <tr>\n",
              "      <th>...</th>\n",
              "      <td>...</td>\n",
              "      <td>...</td>\n",
              "      <td>...</td>\n",
              "      <td>...</td>\n",
              "      <td>...</td>\n",
              "      <td>...</td>\n",
              "      <td>...</td>\n",
              "      <td>...</td>\n",
              "      <td>...</td>\n",
              "      <td>...</td>\n",
              "      <td>...</td>\n",
              "      <td>...</td>\n",
              "      <td>...</td>\n",
              "    </tr>\n",
              "    <tr>\n",
              "      <th>1033</th>\n",
              "      <td>Toshiba PDR-M65</td>\n",
              "      <td>2001</td>\n",
              "      <td>2048.0</td>\n",
              "      <td>1024.0</td>\n",
              "      <td>3.0</td>\n",
              "      <td>38.0</td>\n",
              "      <td>114.0</td>\n",
              "      <td>10.0</td>\n",
              "      <td>10.0</td>\n",
              "      <td>8.0</td>\n",
              "      <td>320.0</td>\n",
              "      <td>120.0</td>\n",
              "      <td>62.0</td>\n",
              "    </tr>\n",
              "    <tr>\n",
              "      <th>1034</th>\n",
              "      <td>Toshiba PDR-M70</td>\n",
              "      <td>2000</td>\n",
              "      <td>2048.0</td>\n",
              "      <td>1024.0</td>\n",
              "      <td>3.0</td>\n",
              "      <td>35.0</td>\n",
              "      <td>105.0</td>\n",
              "      <td>80.0</td>\n",
              "      <td>9.0</td>\n",
              "      <td>16.0</td>\n",
              "      <td>390.0</td>\n",
              "      <td>116.0</td>\n",
              "      <td>62.0</td>\n",
              "    </tr>\n",
              "    <tr>\n",
              "      <th>1035</th>\n",
              "      <td>Toshiba PDR-M71</td>\n",
              "      <td>2001</td>\n",
              "      <td>2048.0</td>\n",
              "      <td>1024.0</td>\n",
              "      <td>3.0</td>\n",
              "      <td>35.0</td>\n",
              "      <td>98.0</td>\n",
              "      <td>80.0</td>\n",
              "      <td>10.0</td>\n",
              "      <td>8.0</td>\n",
              "      <td>340.0</td>\n",
              "      <td>107.0</td>\n",
              "      <td>62.0</td>\n",
              "    </tr>\n",
              "    <tr>\n",
              "      <th>1036</th>\n",
              "      <td>Toshiba PDR-M81</td>\n",
              "      <td>2001</td>\n",
              "      <td>2400.0</td>\n",
              "      <td>1200.0</td>\n",
              "      <td>3.0</td>\n",
              "      <td>35.0</td>\n",
              "      <td>98.0</td>\n",
              "      <td>80.0</td>\n",
              "      <td>10.0</td>\n",
              "      <td>16.0</td>\n",
              "      <td>340.0</td>\n",
              "      <td>107.0</td>\n",
              "      <td>62.0</td>\n",
              "    </tr>\n",
              "    <tr>\n",
              "      <th>1037</th>\n",
              "      <td>Toshiba PDR-T10</td>\n",
              "      <td>2002</td>\n",
              "      <td>1600.0</td>\n",
              "      <td>800.0</td>\n",
              "      <td>1.0</td>\n",
              "      <td>38.0</td>\n",
              "      <td>38.0</td>\n",
              "      <td>40.0</td>\n",
              "      <td>20.0</td>\n",
              "      <td>8.0</td>\n",
              "      <td>180.0</td>\n",
              "      <td>86.0</td>\n",
              "      <td>129.0</td>\n",
              "    </tr>\n",
              "  </tbody>\n",
              "</table>\n",
              "<p>1038 rows × 13 columns</p>\n",
              "</div>\n",
              "      <button class=\"colab-df-convert\" onclick=\"convertToInteractive('df-7f6790fc-bb5e-44a1-92bb-c3a1979590b0')\"\n",
              "              title=\"Convert this dataframe to an interactive table.\"\n",
              "              style=\"display:none;\">\n",
              "        \n",
              "  <svg xmlns=\"http://www.w3.org/2000/svg\" height=\"24px\"viewBox=\"0 0 24 24\"\n",
              "       width=\"24px\">\n",
              "    <path d=\"M0 0h24v24H0V0z\" fill=\"none\"/>\n",
              "    <path d=\"M18.56 5.44l.94 2.06.94-2.06 2.06-.94-2.06-.94-.94-2.06-.94 2.06-2.06.94zm-11 1L8.5 8.5l.94-2.06 2.06-.94-2.06-.94L8.5 2.5l-.94 2.06-2.06.94zm10 10l.94 2.06.94-2.06 2.06-.94-2.06-.94-.94-2.06-.94 2.06-2.06.94z\"/><path d=\"M17.41 7.96l-1.37-1.37c-.4-.4-.92-.59-1.43-.59-.52 0-1.04.2-1.43.59L10.3 9.45l-7.72 7.72c-.78.78-.78 2.05 0 2.83L4 21.41c.39.39.9.59 1.41.59.51 0 1.02-.2 1.41-.59l7.78-7.78 2.81-2.81c.8-.78.8-2.07 0-2.86zM5.41 20L4 18.59l7.72-7.72 1.47 1.35L5.41 20z\"/>\n",
              "  </svg>\n",
              "      </button>\n",
              "      \n",
              "  <style>\n",
              "    .colab-df-container {\n",
              "      display:flex;\n",
              "      flex-wrap:wrap;\n",
              "      gap: 12px;\n",
              "    }\n",
              "\n",
              "    .colab-df-convert {\n",
              "      background-color: #E8F0FE;\n",
              "      border: none;\n",
              "      border-radius: 50%;\n",
              "      cursor: pointer;\n",
              "      display: none;\n",
              "      fill: #1967D2;\n",
              "      height: 32px;\n",
              "      padding: 0 0 0 0;\n",
              "      width: 32px;\n",
              "    }\n",
              "\n",
              "    .colab-df-convert:hover {\n",
              "      background-color: #E2EBFA;\n",
              "      box-shadow: 0px 1px 2px rgba(60, 64, 67, 0.3), 0px 1px 3px 1px rgba(60, 64, 67, 0.15);\n",
              "      fill: #174EA6;\n",
              "    }\n",
              "\n",
              "    [theme=dark] .colab-df-convert {\n",
              "      background-color: #3B4455;\n",
              "      fill: #D2E3FC;\n",
              "    }\n",
              "\n",
              "    [theme=dark] .colab-df-convert:hover {\n",
              "      background-color: #434B5C;\n",
              "      box-shadow: 0px 1px 3px 1px rgba(0, 0, 0, 0.15);\n",
              "      filter: drop-shadow(0px 1px 2px rgba(0, 0, 0, 0.3));\n",
              "      fill: #FFFFFF;\n",
              "    }\n",
              "  </style>\n",
              "\n",
              "      <script>\n",
              "        const buttonEl =\n",
              "          document.querySelector('#df-7f6790fc-bb5e-44a1-92bb-c3a1979590b0 button.colab-df-convert');\n",
              "        buttonEl.style.display =\n",
              "          google.colab.kernel.accessAllowed ? 'block' : 'none';\n",
              "\n",
              "        async function convertToInteractive(key) {\n",
              "          const element = document.querySelector('#df-7f6790fc-bb5e-44a1-92bb-c3a1979590b0');\n",
              "          const dataTable =\n",
              "            await google.colab.kernel.invokeFunction('convertToInteractive',\n",
              "                                                     [key], {});\n",
              "          if (!dataTable) return;\n",
              "\n",
              "          const docLinkHtml = 'Like what you see? Visit the ' +\n",
              "            '<a target=\"_blank\" href=https://colab.research.google.com/notebooks/data_table.ipynb>data table notebook</a>'\n",
              "            + ' to learn more about interactive tables.';\n",
              "          element.innerHTML = '';\n",
              "          dataTable['output_type'] = 'display_data';\n",
              "          await google.colab.output.renderOutput(dataTable, element);\n",
              "          const docLink = document.createElement('div');\n",
              "          docLink.innerHTML = docLinkHtml;\n",
              "          element.appendChild(docLink);\n",
              "        }\n",
              "      </script>\n",
              "    </div>\n",
              "  </div>\n",
              "  "
            ],
            "text/plain": [
              "                       Model  Release date  Max resolution  Low resolution  \\\n",
              "0           Agfa ePhoto 1280          1997          1024.0           640.0   \n",
              "1           Agfa ePhoto 1680          1998          1280.0           640.0   \n",
              "2           Agfa ePhoto CL18          2000           640.0             0.0   \n",
              "3           Agfa ePhoto CL30          1999          1152.0           640.0   \n",
              "4     Agfa ePhoto CL30 Clik!          1999          1152.0           640.0   \n",
              "...                      ...           ...             ...             ...   \n",
              "1033         Toshiba PDR-M65          2001          2048.0          1024.0   \n",
              "1034         Toshiba PDR-M70          2000          2048.0          1024.0   \n",
              "1035         Toshiba PDR-M71          2001          2048.0          1024.0   \n",
              "1036         Toshiba PDR-M81          2001          2400.0          1200.0   \n",
              "1037         Toshiba PDR-T10          2002          1600.0           800.0   \n",
              "\n",
              "      Effective pixels  Zoom wide (W)  Zoom tele (T)  Normal focus range  \\\n",
              "0                  0.0           38.0          114.0                70.0   \n",
              "1                  1.0           38.0          114.0                50.0   \n",
              "2                  0.0           45.0           45.0                 0.0   \n",
              "3                  0.0           35.0           35.0                 0.0   \n",
              "4                  0.0           43.0           43.0                50.0   \n",
              "...                ...            ...            ...                 ...   \n",
              "1033               3.0           38.0          114.0                10.0   \n",
              "1034               3.0           35.0          105.0                80.0   \n",
              "1035               3.0           35.0           98.0                80.0   \n",
              "1036               3.0           35.0           98.0                80.0   \n",
              "1037               1.0           38.0           38.0                40.0   \n",
              "\n",
              "      Macro focus range  Storage included  Weight (inc. batteries)  \\\n",
              "0                  40.0               4.0                    420.0   \n",
              "1                   0.0               4.0                    420.0   \n",
              "2                   0.0               2.0                      0.0   \n",
              "3                   0.0               4.0                      0.0   \n",
              "4                   0.0              40.0                    300.0   \n",
              "...                 ...               ...                      ...   \n",
              "1033               10.0               8.0                    320.0   \n",
              "1034                9.0              16.0                    390.0   \n",
              "1035               10.0               8.0                    340.0   \n",
              "1036               10.0              16.0                    340.0   \n",
              "1037               20.0               8.0                    180.0   \n",
              "\n",
              "      Dimensions   Price  \n",
              "0           95.0   179.0  \n",
              "1          158.0   179.0  \n",
              "2            0.0   179.0  \n",
              "3            0.0   269.0  \n",
              "4          128.0  1299.0  \n",
              "...          ...     ...  \n",
              "1033       120.0    62.0  \n",
              "1034       116.0    62.0  \n",
              "1035       107.0    62.0  \n",
              "1036       107.0    62.0  \n",
              "1037        86.0   129.0  \n",
              "\n",
              "[1038 rows x 13 columns]"
            ]
          },
          "execution_count": 2,
          "metadata": {},
          "output_type": "execute_result"
        }
      ],
      "source": [
        "# MEMANGGIL DAN MEMBACA DATA\n",
        "import pandas as pd\n",
        "df = pd.read_csv(\"camera.csv\")\n",
        "df"
      ]
    },
    {
      "cell_type": "code",
      "execution_count": null,
      "metadata": {
        "colab": {
          "base_uri": "https://localhost:8080/"
        },
        "id": "aSphX8LyJ53Z",
        "outputId": "5cca9e38-338c-4118-ecbc-289aae056bd3"
      },
      "outputs": [
        {
          "name": "stdout",
          "output_type": "stream",
          "text": [
            "Jumlah baris adalah 1038\n",
            "Jumlah kolom adalah 13\n"
          ]
        }
      ],
      "source": [
        "# MENENTUKAN JUMLAH BARIS DAN KOLOM DATA\n",
        "baris, kolom = df.shape\n",
        "x = df.size\n",
        "print(\"Jumlah baris adalah\", baris)\n",
        "print(\"Jumlah kolom adalah\", kolom)"
      ]
    },
    {
      "cell_type": "code",
      "execution_count": null,
      "metadata": {
        "colab": {
          "base_uri": "https://localhost:8080/"
        },
        "id": "AlKCvCeYcKzT",
        "outputId": "779cd42d-5210-4a19-aa55-e73716f91f57"
      },
      "outputs": [
        {
          "data": {
            "text/plain": [
              "Release date\n",
              "1994      129.0\n",
              "1995      129.0\n",
              "1996     2216.0\n",
              "1997     4039.0\n",
              "1998    12248.0\n",
              "1999    18531.0\n",
              "2000    29429.0\n",
              "2001    53991.0\n",
              "2002    49161.0\n",
              "2003    41745.0\n",
              "2004    71582.0\n",
              "2005    64197.0\n",
              "2006    56294.0\n",
              "2007    71074.0\n",
              "Name: Price, dtype: float64"
            ]
          },
          "execution_count": 4,
          "metadata": {},
          "output_type": "execute_result"
        }
      ],
      "source": [
        "df.groupby('Release date')['Price'].sum()"
      ]
    },
    {
      "cell_type": "markdown",
      "metadata": {
        "id": "rt2vvSgG47ot"
      },
      "source": [
        "**KARAKTERISTIK DATA**"
      ]
    },
    {
      "cell_type": "code",
      "execution_count": null,
      "metadata": {
        "colab": {
          "base_uri": "https://localhost:8080/"
        },
        "id": "MfdoyyEZQCel",
        "outputId": "3a64a1d5-fa5f-439f-c559-49b43d38b6fc"
      },
      "outputs": [
        {
          "data": {
            "text/plain": [
              "Index(['Model', 'Release date', 'Max resolution', 'Low resolution',\n",
              "       'Effective pixels', 'Zoom wide (W)', 'Zoom tele (T)',\n",
              "       'Normal focus range', 'Macro focus range', 'Storage included',\n",
              "       'Weight (inc. batteries)', 'Dimensions', 'Price'],\n",
              "      dtype='object')"
            ]
          },
          "execution_count": 5,
          "metadata": {},
          "output_type": "execute_result"
        }
      ],
      "source": [
        "# KOLOM YANG TERDAPAT PADA DATASET\n",
        "df.columns"
      ]
    },
    {
      "cell_type": "markdown",
      "metadata": {
        "id": "MPDkEF3X1T7p"
      },
      "source": [
        "Apa makna tiap atribut / Karakteristik data tiap kolom"
      ]
    },
    {
      "cell_type": "code",
      "execution_count": null,
      "metadata": {
        "colab": {
          "base_uri": "https://localhost:8080/"
        },
        "id": "XUEZcdDt46Pt",
        "outputId": "09b24ca5-02a5-4b5e-cc6f-2bd84dfecbb9"
      },
      "outputs": [
        {
          "name": "stdout",
          "output_type": "stream",
          "text": [
            "1. Model (Nama Model Camera)\n",
            "Nama camera tersebut sesuai dengam model masing-masing\n",
            "Jumlah data kosong: 0\n"
          ]
        }
      ],
      "source": [
        "# Makna data Model\n",
        "dfnull = df.isnull().sum()\n",
        "print(\"1. Model (Nama Model Camera)\")\n",
        "print(\"Nama camera tersebut sesuai dengam model masing-masing\")\n",
        "print(\"Jumlah data kosong: \" + str(dfnull[\"Model\"]))"
      ]
    },
    {
      "cell_type": "code",
      "execution_count": null,
      "metadata": {
        "colab": {
          "base_uri": "https://localhost:8080/"
        },
        "id": "IeStjoZKQQD4",
        "outputId": "ada4bb9e-c65d-44cc-d937-60d7aea0adb3"
      },
      "outputs": [
        {
          "data": {
            "text/plain": [
              "Agfa ePhoto 1280           1\n",
              "Panasonic Lumix DMC-FZ4    1\n",
              "Olympus Stylus 800         1\n",
              "Olympus Stylus 810         1\n",
              "Olympus Stylus 820         1\n",
              "                          ..\n",
              "Kodak C330                 1\n",
              "Kodak C340                 1\n",
              "Kodak C360                 1\n",
              "Kodak C433                 1\n",
              "Toshiba PDR-T10            1\n",
              "Name: Model, Length: 1038, dtype: int64"
            ]
          },
          "execution_count": 7,
          "metadata": {},
          "output_type": "execute_result"
        }
      ],
      "source": [
        "df[\"Model\"].value_counts()"
      ]
    },
    {
      "cell_type": "code",
      "execution_count": null,
      "metadata": {
        "colab": {
          "base_uri": "https://localhost:8080/"
        },
        "id": "uCO5ppmq5QUD",
        "outputId": "24d13b40-6777-44a3-ede5-928b4ab2895e"
      },
      "outputs": [
        {
          "name": "stdout",
          "output_type": "stream",
          "text": [
            "2. Release data (Tahun pertama kali rilis)\n",
            "Range: 1994 - 2007\n",
            "Jumlah data kosong: 0\n"
          ]
        }
      ],
      "source": [
        "# Makna data Release date\n",
        "print(\"2. Release data (Tahun pertama kali rilis)\")\n",
        "print(\"Range: \" + str(df[\"Release date\"].min()) + \" - \" + str(df[\"Release date\"].max()))\n",
        "print(\"Jumlah data kosong: \" + str(dfnull[\"Release date\"]))"
      ]
    },
    {
      "cell_type": "code",
      "execution_count": null,
      "metadata": {
        "colab": {
          "base_uri": "https://localhost:8080/"
        },
        "id": "_HF3mQoHQdf2",
        "outputId": "b20732ff-7d22-4305-adfd-b4528b58f671"
      },
      "outputs": [
        {
          "data": {
            "text/plain": [
              "2007    163\n",
              "2006    153\n",
              "2005    143\n",
              "2004    141\n",
              "2003    101\n",
              "2002     89\n",
              "2001     85\n",
              "2000     61\n",
              "1999     53\n",
              "1998     32\n",
              "1997     11\n",
              "1996      4\n",
              "1994      1\n",
              "1995      1\n",
              "Name: Release date, dtype: int64"
            ]
          },
          "execution_count": 9,
          "metadata": {},
          "output_type": "execute_result"
        }
      ],
      "source": [
        "df[\"Release date\"].value_counts()"
      ]
    },
    {
      "cell_type": "code",
      "execution_count": null,
      "metadata": {
        "colab": {
          "base_uri": "https://localhost:8080/"
        },
        "id": "rs1o4I7I0NcB",
        "outputId": "7a24e471-13f4-458e-fdd7-926990da3503"
      },
      "outputs": [
        {
          "name": "stdout",
          "output_type": "stream",
          "text": [
            "3. Max resolution (Resolusi maksimal yang dapat dilakukan camera)\n",
            "Range: 0.0 - 5616.0\n",
            "Jumlah data kosong: 0\n"
          ]
        }
      ],
      "source": [
        "# Makna data Max resolution\n",
        "print(\"3. Max resolution (Resolusi maksimal yang dapat dilakukan camera)\")\n",
        "print(\"Range: \" + str(df[\"Max resolution\"].min()) + \" - \" + str(df[\"Max resolution\"].max()))\n",
        "print(\"Jumlah data kosong: \" + str(dfnull[\"Max resolution\"]))"
      ]
    },
    {
      "cell_type": "code",
      "execution_count": null,
      "metadata": {
        "colab": {
          "base_uri": "https://localhost:8080/"
        },
        "id": "VDThArSRQolZ",
        "outputId": "5a5e60aa-8610-463b-93b4-52dd3c3fc855"
      },
      "outputs": [
        {
          "data": {
            "text/plain": [
              "3072.0    108\n",
              "2048.0    102\n",
              "1600.0     83\n",
              "3264.0     73\n",
              "2816.0     68\n",
              "         ... \n",
              "1524.0      1\n",
              "3060.0      1\n",
              "3032.0      1\n",
              "2580.0      1\n",
              "1729.0      1\n",
              "Name: Max resolution, Length: 99, dtype: int64"
            ]
          },
          "execution_count": 11,
          "metadata": {},
          "output_type": "execute_result"
        }
      ],
      "source": [
        "df[\"Max resolution\"].value_counts()"
      ]
    },
    {
      "cell_type": "code",
      "execution_count": null,
      "metadata": {
        "colab": {
          "base_uri": "https://localhost:8080/"
        },
        "id": "0cQEPVGE1jPc",
        "outputId": "12e70e80-64e5-4cdf-dc53-e0b40e492ae4"
      },
      "outputs": [
        {
          "name": "stdout",
          "output_type": "stream",
          "text": [
            "4. Low resolution (Resolusi minimum yang dapat dilakukan camera)\n",
            "Range: 0.0 - 4992.0\n",
            "Jumlah data kosong: 0\n"
          ]
        }
      ],
      "source": [
        "# Makna data Low resolution\n",
        "print(\"4. Low resolution (Resolusi minimum yang dapat dilakukan camera)\")\n",
        "print(\"Range: \" + str(df[\"Low resolution\"].min()) + \" - \" + str(df[\"Low resolution\"].max()))\n",
        "print(\"Jumlah data kosong: \" + str(dfnull[\"Low resolution\"]))"
      ]
    },
    {
      "cell_type": "code",
      "execution_count": null,
      "metadata": {
        "colab": {
          "base_uri": "https://localhost:8080/"
        },
        "id": "9LTeXyaEQsVA",
        "outputId": "48466b64-820a-4320-d8e2-98089a0f7611"
      },
      "outputs": [
        {
          "data": {
            "text/plain": [
              "2048.0    187\n",
              "1600.0    162\n",
              "2592.0    119\n",
              "640.0      88\n",
              "1024.0     70\n",
              "         ... \n",
              "876.0       1\n",
              "1792.0      1\n",
              "3600.0      1\n",
              "2952.0      1\n",
              "1620.0      1\n",
              "Name: Low resolution, Length: 70, dtype: int64"
            ]
          },
          "execution_count": 49,
          "metadata": {},
          "output_type": "execute_result"
        }
      ],
      "source": [
        "df[\"Low resolution\"].value_counts()"
      ]
    },
    {
      "cell_type": "code",
      "execution_count": null,
      "metadata": {
        "colab": {
          "base_uri": "https://localhost:8080/"
        },
        "id": "39x-46WB561S",
        "outputId": "c16b7165-737c-4e96-9e2c-28fd803776fc"
      },
      "outputs": [
        {
          "name": "stdout",
          "output_type": "stream",
          "text": [
            " 5. Effective pixels\n",
            "Range: 0.0 - 21.0\n",
            "Jumlah data kosong: 0\n"
          ]
        }
      ],
      "source": [
        "# Makna data Effective pixels\n",
        "print(\" 5. Effective pixels\")\n",
        "print(\"Range: \" + str(df[\"Effective pixels\"].min()) + \" - \" + str(df[\"Effective pixels\"].max()))\n",
        "print(\"Jumlah data kosong: \" + str(dfnull[\"Effective pixels\"]))"
      ]
    },
    {
      "cell_type": "code",
      "execution_count": null,
      "metadata": {
        "colab": {
          "background_save": true,
          "base_uri": "https://localhost:8080/"
        },
        "id": "HaO55dXlQy-q",
        "outputId": "6193eead-2f18-484d-fc82-7c3b6c5343f9"
      },
      "outputs": [
        {
          "data": {
            "text/plain": [
              "3.0     197\n",
              "1.0     152\n",
              "6.0     119\n",
              "7.0     115\n",
              "5.0     114\n",
              "4.0     101\n",
              "8.0      86\n",
              "2.0      50\n",
              "10.0     39\n",
              "0.0      35\n",
              "12.0     18\n",
              "9.0       6\n",
              "13.0      3\n",
              "11.0      1\n",
              "16.0      1\n",
              "21.0      1\n",
              "Name: Effective pixels, dtype: int64"
            ]
          },
          "execution_count": 18,
          "metadata": {},
          "output_type": "execute_result"
        }
      ],
      "source": [
        "df[\"Effective pixels\"].value_counts()"
      ]
    },
    {
      "cell_type": "code",
      "execution_count": null,
      "metadata": {
        "colab": {
          "base_uri": "https://localhost:8080/"
        },
        "id": "Ka7xWbJC6UAa",
        "outputId": "94cf5204-938f-44e9-e3bd-6711b96eb001"
      },
      "outputs": [
        {
          "name": "stdout",
          "output_type": "stream",
          "text": [
            "6. Zoom wide (W) ([Keterangan mengenai Zoom wide (W)])\n",
            "Range: 0.0 - 52.0\n",
            "Jumlah data kosong: 0\n"
          ]
        }
      ],
      "source": [
        "# Makna data Zoom wide (W)\n",
        "print(\"6. Zoom wide (W)\")\n",
        "print(\"Range: \" + str(df[\"Zoom wide (W)\"].min()) + \" - \" + str(df[\"Zoom wide (W)\"].max()))\n",
        "print(\"Jumlah data kosong: \" + str(dfnull[\"Zoom wide (W)\"]))"
      ]
    },
    {
      "cell_type": "code",
      "execution_count": null,
      "metadata": {
        "colab": {
          "background_save": true,
          "base_uri": "https://localhost:8080/"
        },
        "id": "hpZ8MPvjQzg-",
        "outputId": "344d45fa-e2c9-4408-88d5-b3a6ddcf6947"
      },
      "outputs": [
        {
          "data": {
            "text/plain": [
              "38.0    259\n",
              "35.0    252\n",
              "36.0    111\n",
              "0.0      85\n",
              "37.0     75\n",
              "28.0     61\n",
              "39.0     51\n",
              "34.0     44\n",
              "33.0     24\n",
              "32.0     15\n",
              "40.0     13\n",
              "41.0     12\n",
              "43.0      5\n",
              "24.0      4\n",
              "27.0      4\n",
              "31.0      4\n",
              "45.0      3\n",
              "29.0      3\n",
              "30.0      3\n",
              "42.0      3\n",
              "50.0      2\n",
              "52.0      2\n",
              "47.0      1\n",
              "23.0      1\n",
              "51.0      1\n",
              "Name: Zoom wide (W), dtype: int64"
            ]
          },
          "execution_count": 21,
          "metadata": {},
          "output_type": "execute_result"
        }
      ],
      "source": [
        "df[\"Zoom wide (W)\"].value_counts()"
      ]
    },
    {
      "cell_type": "code",
      "execution_count": null,
      "metadata": {
        "colab": {
          "background_save": true,
          "base_uri": "https://localhost:8080/"
        },
        "id": "Zb9T94np-LiS",
        "outputId": "c7bdcd7d-1401-4812-fbb5-5217e62bf666"
      },
      "outputs": [
        {
          "name": "stdout",
          "output_type": "stream",
          "text": [
            "7. Zoom tele (T)\n",
            "Range: 0.0 - 518.0\n",
            "Jumlah data kosong: 0\n"
          ]
        }
      ],
      "source": [
        "# Makna data Zoom tele (T)\n",
        "print(\"7. Zoom tele (T)\")\n",
        "print(\"Range: \" + str(df[\"Zoom tele (T)\"].min()) + \" - \" + str(df[\"Zoom tele (T)\"].max()))\n",
        "print(\"Jumlah data kosong: \" + str(dfnull[\"Zoom tele (T)\"]))"
      ]
    },
    {
      "cell_type": "code",
      "execution_count": null,
      "metadata": {
        "colab": {
          "base_uri": "https://localhost:8080/"
        },
        "id": "gkOpsgLUQz2N",
        "outputId": "23c50d47-a144-45aa-f215-07d3de7158ab"
      },
      "outputs": [
        {
          "data": {
            "text/plain": [
              "114.0    163\n",
              "105.0    139\n",
              "0.0       85\n",
              "108.0     52\n",
              "102.0     43\n",
              "        ... \n",
              "328.0      1\n",
              "72.0       1\n",
              "31.0       1\n",
              "47.0       1\n",
              "423.0      1\n",
              "Name: Zoom tele (T), Length: 100, dtype: int64"
            ]
          },
          "execution_count": 52,
          "metadata": {},
          "output_type": "execute_result"
        }
      ],
      "source": [
        "df[\"Zoom tele (T)\"].value_counts()"
      ]
    },
    {
      "cell_type": "code",
      "execution_count": null,
      "metadata": {
        "colab": {
          "base_uri": "https://localhost:8080/"
        },
        "id": "evQC8ZGP-W02",
        "outputId": "6373beb0-c7a7-4b80-f3ac-e04ce561d352"
      },
      "outputs": [
        {
          "name": "stdout",
          "output_type": "stream",
          "text": [
            "8. Normal focus range \n",
            "Range: 0.0 - 120.0\n",
            "Jumlah data kosong: 0\n"
          ]
        }
      ],
      "source": [
        "# Makna data Normal focus range\n",
        "print(\"8. Normal focus range \")\n",
        "print(\"Range: \" + str(df[\"Normal focus range\"].min()) + \" - \" + str(df[\"Normal focus range\"].max()))\n",
        "print(\"Jumlah data kosong: \" + str(dfnull[\"Normal focus range\"]))"
      ]
    },
    {
      "cell_type": "code",
      "execution_count": null,
      "metadata": {
        "colab": {
          "background_save": true,
          "base_uri": "https://localhost:8080/"
        },
        "id": "6qQP6in5Q0Lp",
        "outputId": "12a2c305-249c-4ac5-8627-52eb5c1b0381"
      },
      "outputs": [
        {
          "data": {
            "text/plain": [
              "50.0     286\n",
              "60.0     159\n",
              "0.0      137\n",
              "80.0     106\n",
              "30.0      97\n",
              "40.0      89\n",
              "70.0      27\n",
              "10.0      23\n",
              "20.0      14\n",
              "45.0      11\n",
              "25.0      10\n",
              "90.0       9\n",
              "55.0       8\n",
              "76.0       6\n",
              "35.0       6\n",
              "46.0       6\n",
              "1.0        6\n",
              "47.0       6\n",
              "75.0       5\n",
              "4.0        4\n",
              "24.0       4\n",
              "23.0       3\n",
              "57.0       3\n",
              "85.0       2\n",
              "100.0      2\n",
              "12.0       2\n",
              "8.0        2\n",
              "66.0       1\n",
              "32.0       1\n",
              "120.0      1\n",
              "34.0       1\n",
              "19.0       1\n",
              "Name: Normal focus range, dtype: int64"
            ]
          },
          "execution_count": 25,
          "metadata": {},
          "output_type": "execute_result"
        }
      ],
      "source": [
        "df[\"Normal focus range\"].value_counts()"
      ]
    },
    {
      "cell_type": "code",
      "execution_count": null,
      "metadata": {
        "colab": {
          "background_save": true,
          "base_uri": "https://localhost:8080/"
        },
        "id": "PPnsQwUX-w3M",
        "outputId": "8e5a3fc9-2cbb-414c-ca79-561d27ba0778"
      },
      "outputs": [
        {
          "name": "stdout",
          "output_type": "stream",
          "text": [
            "9. Macro focus range\n",
            "Range: 0.0 - 85.0\n",
            "Jumlah data kosong: 1\n"
          ]
        }
      ],
      "source": [
        "# Makna data Macro focus range\n",
        "print(\"9. Macro focus range\")\n",
        "print(\"Range: \" + str(df[\"Macro focus range\"].min()) + \" - \" + str(df[\"Macro focus range\"].max()))\n",
        "print(\"Jumlah data kosong: \" + str(dfnull[\"Macro focus range\"]))"
      ]
    },
    {
      "cell_type": "code",
      "execution_count": null,
      "metadata": {
        "colab": {
          "base_uri": "https://localhost:8080/"
        },
        "id": "M8zXMuZiQ0gz",
        "outputId": "3d1f8ba5-0d29-4d3d-8d47-d6040a8bbc57"
      },
      "outputs": [
        {
          "data": {
            "text/plain": [
              "10.0    200\n",
              "5.0     132\n",
              "0.0     127\n",
              "1.0      83\n",
              "20.0     70\n",
              "4.0      65\n",
              "6.0      61\n",
              "3.0      49\n",
              "2.0      48\n",
              "8.0      34\n",
              "7.0      26\n",
              "15.0     26\n",
              "12.0     23\n",
              "9.0      16\n",
              "14.0     16\n",
              "13.0     11\n",
              "25.0     10\n",
              "30.0      8\n",
              "16.0      7\n",
              "17.0      7\n",
              "19.0      3\n",
              "11.0      3\n",
              "85.0      2\n",
              "50.0      2\n",
              "60.0      2\n",
              "22.0      2\n",
              "40.0      2\n",
              "80.0      1\n",
              "28.0      1\n",
              "Name: Macro focus range, dtype: int64"
            ]
          },
          "execution_count": 38,
          "metadata": {},
          "output_type": "execute_result"
        }
      ],
      "source": [
        "df[\"Macro focus range\"].value_counts()"
      ]
    },
    {
      "cell_type": "code",
      "execution_count": null,
      "metadata": {
        "colab": {
          "background_save": true,
          "base_uri": "https://localhost:8080/"
        },
        "id": "wkRf6SvL-_1e",
        "outputId": "cf8d9b6a-6093-4778-deb6-63d24caa6fd6"
      },
      "outputs": [
        {
          "name": "stdout",
          "output_type": "stream",
          "text": [
            "10. Storage included\n",
            "Range: 0.0 - 450.0\n",
            "Jumlah data kosong: 2\n"
          ]
        }
      ],
      "source": [
        "# Makna data Storage included\n",
        "print(\"10. Storage included\")\n",
        "print(\"Range: \" + str(df[\"Storage included\"].min()) + \" - \" + str(df[\"Storage included\"].max()))\n",
        "print(\"Jumlah data kosong: \" + str(dfnull[\"Storage included\"]))"
      ]
    },
    {
      "cell_type": "code",
      "execution_count": null,
      "metadata": {
        "colab": {
          "background_save": true,
          "base_uri": "https://localhost:8080/"
        },
        "id": "oaEEUNglQ01D",
        "outputId": "567083a2-68ac-452c-9719-d0429bc4c6ef"
      },
      "outputs": [
        {
          "data": {
            "text/plain": [
              "16.0     279\n",
              "8.0      152\n",
              "32.0     143\n",
              "0.0      123\n",
              "4.0       37\n",
              "10.0      25\n",
              "14.0      21\n",
              "1.0       21\n",
              "12.0      18\n",
              "20.0      18\n",
              "11.0      18\n",
              "9.0       17\n",
              "13.0      15\n",
              "27.0      13\n",
              "22.0      12\n",
              "26.0      11\n",
              "2.0       10\n",
              "31.0       9\n",
              "6.0        8\n",
              "24.0       8\n",
              "23.0       8\n",
              "64.0       7\n",
              "19.0       7\n",
              "28.0       6\n",
              "21.0       5\n",
              "45.0       4\n",
              "58.0       4\n",
              "54.0       3\n",
              "25.0       3\n",
              "18.0       3\n",
              "47.0       3\n",
              "56.0       3\n",
              "52.0       3\n",
              "15.0       3\n",
              "7.0        3\n",
              "17.0       2\n",
              "256.0      2\n",
              "450.0      2\n",
              "48.0       2\n",
              "40.0       1\n",
              "340.0      1\n",
              "50.0       1\n",
              "173.0      1\n",
              "128.0      1\n",
              "Name: Storage included, dtype: int64"
            ]
          },
          "execution_count": 29,
          "metadata": {},
          "output_type": "execute_result"
        }
      ],
      "source": [
        "df[\"Storage included\"].value_counts()"
      ]
    },
    {
      "cell_type": "code",
      "execution_count": 30,
      "metadata": {
        "colab": {
          "base_uri": "https://localhost:8080/"
        },
        "id": "npquWUvoAzuK",
        "outputId": "1ca5a653-9690-4879-edc2-7fb55f20e235"
      },
      "outputs": [
        {
          "output_type": "stream",
          "name": "stdout",
          "text": [
            "11. Weight (inc. batteries)\n",
            "Range: 0.0 - 1860.0\n",
            "Jumlah data kosong: 2\n"
          ]
        }
      ],
      "source": [
        "# Makna data Weight (inc. batteries)\n",
        "print(\"11. Weight (inc. batteries)\")\n",
        "print(\"Range: \" + str(df[\"Weight (inc. batteries)\"].min()) + \" - \" + str(df[\"Weight (inc. batteries)\"].max()))\n",
        "print(\"Jumlah data kosong: \" + str(dfnull[\"Weight (inc. batteries)\"]))"
      ]
    },
    {
      "cell_type": "code",
      "execution_count": 31,
      "metadata": {
        "colab": {
          "base_uri": "https://localhost:8080/"
        },
        "id": "8Vj2kbWaQ1HW",
        "outputId": "0175df45-cda5-44c3-ce4f-172b3be5c92b"
      },
      "outputs": [
        {
          "output_type": "execute_result",
          "data": {
            "text/plain": [
              "320.0    34\n",
              "180.0    33\n",
              "190.0    32\n",
              "250.0    29\n",
              "165.0    27\n",
              "         ..\n",
              "187.0     1\n",
              "489.0     1\n",
              "930.0     1\n",
              "850.0     1\n",
              "990.0     1\n",
              "Name: Weight (inc. batteries), Length: 237, dtype: int64"
            ]
          },
          "metadata": {},
          "execution_count": 31
        }
      ],
      "source": [
        "df[\"Weight (inc. batteries)\"].value_counts()"
      ]
    },
    {
      "cell_type": "code",
      "execution_count": 32,
      "metadata": {
        "colab": {
          "base_uri": "https://localhost:8080/"
        },
        "id": "J83gFiQ-BAct",
        "outputId": "b0526934-3a6f-4744-c017-05749c5c3b61"
      },
      "outputs": [
        {
          "output_type": "stream",
          "name": "stdout",
          "text": [
            "12. Dimensions\n",
            "Range: 0.0 - 240.0\n",
            "Jumlah data kosong: 2\n"
          ]
        }
      ],
      "source": [
        "# Makna data Dimensions\n",
        "print(\"12. Dimensions\")\n",
        "print(\"Range: \" + str(df[\"Dimensions\"].min()) + \" - \" + str(df[\"Dimensions\"].max()))\n",
        "print(\"Jumlah data kosong: \" + str(dfnull[\"Dimensions\"]))"
      ]
    },
    {
      "cell_type": "code",
      "execution_count": 33,
      "metadata": {
        "colab": {
          "base_uri": "https://localhost:8080/"
        },
        "id": "c5C22VcsQ1aK",
        "outputId": "c277b636-274f-4513-e173-5db17cea3f32"
      },
      "outputs": [
        {
          "output_type": "execute_result",
          "data": {
            "text/plain": [
              "90.0     48\n",
              "91.0     47\n",
              "95.0     41\n",
              "100.0    38\n",
              "106.0    31\n",
              "         ..\n",
              "240.0     1\n",
              "54.0      1\n",
              "30.0      1\n",
              "73.0      1\n",
              "38.0      1\n",
              "Name: Dimensions, Length: 101, dtype: int64"
            ]
          },
          "metadata": {},
          "execution_count": 33
        }
      ],
      "source": [
        "df[\"Dimensions\"].value_counts()"
      ]
    },
    {
      "cell_type": "code",
      "execution_count": 34,
      "metadata": {
        "colab": {
          "base_uri": "https://localhost:8080/"
        },
        "id": "o-W_zkCqCMT-",
        "outputId": "034a385e-9247-4953-b61c-da8633fce8cf"
      },
      "outputs": [
        {
          "output_type": "stream",
          "name": "stdout",
          "text": [
            "13. Price\n",
            "Range: 14.0 - 7999.0\n",
            "Jumlah data kosong: 0\n"
          ]
        }
      ],
      "source": [
        "# Makna data Price\n",
        "print(\"13. Price\")\n",
        "print(\"Range: \" + str(df[\"Price\"].min()) + \" - \" + str(df[\"Price\"].max()))\n",
        "print(\"Jumlah data kosong: \" + str(dfnull[\"Price\"]))"
      ]
    },
    {
      "cell_type": "code",
      "execution_count": 35,
      "metadata": {
        "colab": {
          "base_uri": "https://localhost:8080/"
        },
        "id": "x0WnjkJAQ1ra",
        "outputId": "d1b4e150-723f-4091-9443-70e6ff650ac7"
      },
      "outputs": [
        {
          "output_type": "execute_result",
          "data": {
            "text/plain": [
              "149.0     112\n",
              "229.0     103\n",
              "129.0      92\n",
              "169.0      67\n",
              "179.0      63\n",
              "249.0      52\n",
              "199.0      50\n",
              "1699.0     47\n",
              "399.0      46\n",
              "126.0      41\n",
              "429.0      38\n",
              "139.0      34\n",
              "99.0       32\n",
              "1499.0     30\n",
              "449.0      29\n",
              "1399.0     24\n",
              "299.0      23\n",
              "269.0      21\n",
              "329.0      20\n",
              "1599.0     10\n",
              "509.0      10\n",
              "62.0       10\n",
              "1299.0      9\n",
              "146.0       8\n",
              "384.0       7\n",
              "499.0       6\n",
              "549.0       6\n",
              "799.0       6\n",
              "177.0       6\n",
              "159.0       5\n",
              "4499.0      5\n",
              "119.0       4\n",
              "4699.0      4\n",
              "599.0       3\n",
              "4999.0      3\n",
              "7999.0      3\n",
              "19.0        2\n",
              "14.0        2\n",
              "2499.0      1\n",
              "296.0       1\n",
              "1799.0      1\n",
              "279.0       1\n",
              "1199.0      1\n",
              "Name: Price, dtype: int64"
            ]
          },
          "metadata": {},
          "execution_count": 35
        }
      ],
      "source": [
        "df[\"Price\"].value_counts()"
      ]
    },
    {
      "cell_type": "code",
      "execution_count": 36,
      "metadata": {
        "colab": {
          "base_uri": "https://localhost:8080/"
        },
        "id": "DOL39wHB2aIi",
        "outputId": "d164465a-3181-4ae6-a272-513206a3a1ee"
      },
      "outputs": [
        {
          "output_type": "stream",
          "name": "stdout",
          "text": [
            "Nama-nama kolom pada dataset : \n",
            "1. Model (object)\n",
            "2. Release date (int64)\n",
            "3. Max resolution (float64)\n",
            "4. Low resolution (float64)\n",
            "5. Effective pixels (float64)\n",
            "6. Zoom wide (W) (float64)\n",
            "7. Zoom tele (T) (float64)\n",
            "8. Normal focus range (float64)\n",
            "9. Macro focus range (float64)\n",
            "10. Storage included (float64)\n",
            "11. Weight (inc. batteries) (float64)\n",
            "12. Dimensions (float64)\n",
            "13. Price (float64)\n"
          ]
        }
      ],
      "source": [
        "# Kolom yang ada dalam dataset serta jenisnya\n",
        "print(\"Nama-nama kolom pada dataset : \")\n",
        "kolom = list(df.columns)\n",
        "for index in range(len(kolom)):\n",
        "    print(str(index+1) + \". \" + str(kolom[index]) + \" (\" + str(df.dtypes[str(kolom[index])]) + \")\")"
      ]
    },
    {
      "cell_type": "code",
      "execution_count": 37,
      "metadata": {
        "colab": {
          "base_uri": "https://localhost:8080/"
        },
        "id": "OFd6b9RcBoB1",
        "outputId": "e5ca9e70-102c-4ea1-fa65-7cbd200f3c89"
      },
      "outputs": [
        {
          "output_type": "execute_result",
          "data": {
            "text/plain": [
              "Model                      0\n",
              "Release date               0\n",
              "Max resolution             0\n",
              "Low resolution             0\n",
              "Effective pixels           0\n",
              "Zoom wide (W)              0\n",
              "Zoom tele (T)              0\n",
              "Normal focus range         0\n",
              "Macro focus range          1\n",
              "Storage included           2\n",
              "Weight (inc. batteries)    2\n",
              "Dimensions                 2\n",
              "Price                      0\n",
              "dtype: int64"
            ]
          },
          "metadata": {},
          "execution_count": 37
        }
      ],
      "source": [
        "# Persen data yang kosong\n",
        "df.isnull().sum()"
      ]
    },
    {
      "cell_type": "markdown",
      "metadata": {
        "id": "56-fpItW5c06"
      },
      "source": [
        "**STATISTIK**"
      ]
    },
    {
      "cell_type": "code",
      "execution_count": 38,
      "metadata": {
        "colab": {
          "base_uri": "https://localhost:8080/",
          "height": 494
        },
        "id": "XcAu4M3_5fhF",
        "outputId": "55fabeb9-9049-4785-973c-139ace123e2d"
      },
      "outputs": [
        {
          "output_type": "execute_result",
          "data": {
            "text/plain": [
              "                    Model  Release date  Max resolution  Low resolution  \\\n",
              "0        Agfa ePhoto 1280          1997          1024.0           640.0   \n",
              "1        Agfa ePhoto 1680          1998          1280.0           640.0   \n",
              "2        Agfa ePhoto CL18          2000           640.0             0.0   \n",
              "3        Agfa ePhoto CL30          1999          1152.0           640.0   \n",
              "4  Agfa ePhoto CL30 Clik!          1999          1152.0           640.0   \n",
              "5        Agfa ePhoto CL45          2001          1600.0           640.0   \n",
              "6        Agfa ePhoto CL50          1999          1280.0           640.0   \n",
              "7     Canon PowerShot 350          1997           640.0             0.0   \n",
              "8     Canon PowerShot 600          1996           832.0           640.0   \n",
              "9     Canon PowerShot A10          2001          1280.0          1024.0   \n",
              "\n",
              "   Effective pixels  Zoom wide (W)  Zoom tele (T)  Normal focus range  \\\n",
              "0               0.0           38.0          114.0                70.0   \n",
              "1               1.0           38.0          114.0                50.0   \n",
              "2               0.0           45.0           45.0                 0.0   \n",
              "3               0.0           35.0           35.0                 0.0   \n",
              "4               0.0           43.0           43.0                50.0   \n",
              "5               1.0           51.0           51.0                50.0   \n",
              "6               1.0           34.0          102.0                 0.0   \n",
              "7               0.0           42.0           42.0                70.0   \n",
              "8               0.0           50.0           50.0                40.0   \n",
              "9               1.0           35.0          105.0                76.0   \n",
              "\n",
              "   Macro focus range  Storage included  Weight (inc. batteries)  Dimensions  \\\n",
              "0               40.0               4.0                    420.0        95.0   \n",
              "1                0.0               4.0                    420.0       158.0   \n",
              "2                0.0               2.0                      0.0         0.0   \n",
              "3                0.0               4.0                      0.0         0.0   \n",
              "4                0.0              40.0                    300.0       128.0   \n",
              "5               20.0               8.0                    270.0       119.0   \n",
              "6                0.0               8.0                      0.0         0.0   \n",
              "7                3.0               2.0                    320.0        93.0   \n",
              "8               10.0               1.0                    460.0       160.0   \n",
              "9               16.0               8.0                    375.0       110.0   \n",
              "\n",
              "    Price  \n",
              "0   179.0  \n",
              "1   179.0  \n",
              "2   179.0  \n",
              "3   269.0  \n",
              "4  1299.0  \n",
              "5   179.0  \n",
              "6   179.0  \n",
              "7   149.0  \n",
              "8   139.0  \n",
              "9   139.0  "
            ],
            "text/html": [
              "\n",
              "  <div id=\"df-593c9779-d24f-457e-8da1-ada1b1efb313\">\n",
              "    <div class=\"colab-df-container\">\n",
              "      <div>\n",
              "<style scoped>\n",
              "    .dataframe tbody tr th:only-of-type {\n",
              "        vertical-align: middle;\n",
              "    }\n",
              "\n",
              "    .dataframe tbody tr th {\n",
              "        vertical-align: top;\n",
              "    }\n",
              "\n",
              "    .dataframe thead th {\n",
              "        text-align: right;\n",
              "    }\n",
              "</style>\n",
              "<table border=\"1\" class=\"dataframe\">\n",
              "  <thead>\n",
              "    <tr style=\"text-align: right;\">\n",
              "      <th></th>\n",
              "      <th>Model</th>\n",
              "      <th>Release date</th>\n",
              "      <th>Max resolution</th>\n",
              "      <th>Low resolution</th>\n",
              "      <th>Effective pixels</th>\n",
              "      <th>Zoom wide (W)</th>\n",
              "      <th>Zoom tele (T)</th>\n",
              "      <th>Normal focus range</th>\n",
              "      <th>Macro focus range</th>\n",
              "      <th>Storage included</th>\n",
              "      <th>Weight (inc. batteries)</th>\n",
              "      <th>Dimensions</th>\n",
              "      <th>Price</th>\n",
              "    </tr>\n",
              "  </thead>\n",
              "  <tbody>\n",
              "    <tr>\n",
              "      <th>0</th>\n",
              "      <td>Agfa ePhoto 1280</td>\n",
              "      <td>1997</td>\n",
              "      <td>1024.0</td>\n",
              "      <td>640.0</td>\n",
              "      <td>0.0</td>\n",
              "      <td>38.0</td>\n",
              "      <td>114.0</td>\n",
              "      <td>70.0</td>\n",
              "      <td>40.0</td>\n",
              "      <td>4.0</td>\n",
              "      <td>420.0</td>\n",
              "      <td>95.0</td>\n",
              "      <td>179.0</td>\n",
              "    </tr>\n",
              "    <tr>\n",
              "      <th>1</th>\n",
              "      <td>Agfa ePhoto 1680</td>\n",
              "      <td>1998</td>\n",
              "      <td>1280.0</td>\n",
              "      <td>640.0</td>\n",
              "      <td>1.0</td>\n",
              "      <td>38.0</td>\n",
              "      <td>114.0</td>\n",
              "      <td>50.0</td>\n",
              "      <td>0.0</td>\n",
              "      <td>4.0</td>\n",
              "      <td>420.0</td>\n",
              "      <td>158.0</td>\n",
              "      <td>179.0</td>\n",
              "    </tr>\n",
              "    <tr>\n",
              "      <th>2</th>\n",
              "      <td>Agfa ePhoto CL18</td>\n",
              "      <td>2000</td>\n",
              "      <td>640.0</td>\n",
              "      <td>0.0</td>\n",
              "      <td>0.0</td>\n",
              "      <td>45.0</td>\n",
              "      <td>45.0</td>\n",
              "      <td>0.0</td>\n",
              "      <td>0.0</td>\n",
              "      <td>2.0</td>\n",
              "      <td>0.0</td>\n",
              "      <td>0.0</td>\n",
              "      <td>179.0</td>\n",
              "    </tr>\n",
              "    <tr>\n",
              "      <th>3</th>\n",
              "      <td>Agfa ePhoto CL30</td>\n",
              "      <td>1999</td>\n",
              "      <td>1152.0</td>\n",
              "      <td>640.0</td>\n",
              "      <td>0.0</td>\n",
              "      <td>35.0</td>\n",
              "      <td>35.0</td>\n",
              "      <td>0.0</td>\n",
              "      <td>0.0</td>\n",
              "      <td>4.0</td>\n",
              "      <td>0.0</td>\n",
              "      <td>0.0</td>\n",
              "      <td>269.0</td>\n",
              "    </tr>\n",
              "    <tr>\n",
              "      <th>4</th>\n",
              "      <td>Agfa ePhoto CL30 Clik!</td>\n",
              "      <td>1999</td>\n",
              "      <td>1152.0</td>\n",
              "      <td>640.0</td>\n",
              "      <td>0.0</td>\n",
              "      <td>43.0</td>\n",
              "      <td>43.0</td>\n",
              "      <td>50.0</td>\n",
              "      <td>0.0</td>\n",
              "      <td>40.0</td>\n",
              "      <td>300.0</td>\n",
              "      <td>128.0</td>\n",
              "      <td>1299.0</td>\n",
              "    </tr>\n",
              "    <tr>\n",
              "      <th>5</th>\n",
              "      <td>Agfa ePhoto CL45</td>\n",
              "      <td>2001</td>\n",
              "      <td>1600.0</td>\n",
              "      <td>640.0</td>\n",
              "      <td>1.0</td>\n",
              "      <td>51.0</td>\n",
              "      <td>51.0</td>\n",
              "      <td>50.0</td>\n",
              "      <td>20.0</td>\n",
              "      <td>8.0</td>\n",
              "      <td>270.0</td>\n",
              "      <td>119.0</td>\n",
              "      <td>179.0</td>\n",
              "    </tr>\n",
              "    <tr>\n",
              "      <th>6</th>\n",
              "      <td>Agfa ePhoto CL50</td>\n",
              "      <td>1999</td>\n",
              "      <td>1280.0</td>\n",
              "      <td>640.0</td>\n",
              "      <td>1.0</td>\n",
              "      <td>34.0</td>\n",
              "      <td>102.0</td>\n",
              "      <td>0.0</td>\n",
              "      <td>0.0</td>\n",
              "      <td>8.0</td>\n",
              "      <td>0.0</td>\n",
              "      <td>0.0</td>\n",
              "      <td>179.0</td>\n",
              "    </tr>\n",
              "    <tr>\n",
              "      <th>7</th>\n",
              "      <td>Canon PowerShot 350</td>\n",
              "      <td>1997</td>\n",
              "      <td>640.0</td>\n",
              "      <td>0.0</td>\n",
              "      <td>0.0</td>\n",
              "      <td>42.0</td>\n",
              "      <td>42.0</td>\n",
              "      <td>70.0</td>\n",
              "      <td>3.0</td>\n",
              "      <td>2.0</td>\n",
              "      <td>320.0</td>\n",
              "      <td>93.0</td>\n",
              "      <td>149.0</td>\n",
              "    </tr>\n",
              "    <tr>\n",
              "      <th>8</th>\n",
              "      <td>Canon PowerShot 600</td>\n",
              "      <td>1996</td>\n",
              "      <td>832.0</td>\n",
              "      <td>640.0</td>\n",
              "      <td>0.0</td>\n",
              "      <td>50.0</td>\n",
              "      <td>50.0</td>\n",
              "      <td>40.0</td>\n",
              "      <td>10.0</td>\n",
              "      <td>1.0</td>\n",
              "      <td>460.0</td>\n",
              "      <td>160.0</td>\n",
              "      <td>139.0</td>\n",
              "    </tr>\n",
              "    <tr>\n",
              "      <th>9</th>\n",
              "      <td>Canon PowerShot A10</td>\n",
              "      <td>2001</td>\n",
              "      <td>1280.0</td>\n",
              "      <td>1024.0</td>\n",
              "      <td>1.0</td>\n",
              "      <td>35.0</td>\n",
              "      <td>105.0</td>\n",
              "      <td>76.0</td>\n",
              "      <td>16.0</td>\n",
              "      <td>8.0</td>\n",
              "      <td>375.0</td>\n",
              "      <td>110.0</td>\n",
              "      <td>139.0</td>\n",
              "    </tr>\n",
              "  </tbody>\n",
              "</table>\n",
              "</div>\n",
              "      <button class=\"colab-df-convert\" onclick=\"convertToInteractive('df-593c9779-d24f-457e-8da1-ada1b1efb313')\"\n",
              "              title=\"Convert this dataframe to an interactive table.\"\n",
              "              style=\"display:none;\">\n",
              "        \n",
              "  <svg xmlns=\"http://www.w3.org/2000/svg\" height=\"24px\"viewBox=\"0 0 24 24\"\n",
              "       width=\"24px\">\n",
              "    <path d=\"M0 0h24v24H0V0z\" fill=\"none\"/>\n",
              "    <path d=\"M18.56 5.44l.94 2.06.94-2.06 2.06-.94-2.06-.94-.94-2.06-.94 2.06-2.06.94zm-11 1L8.5 8.5l.94-2.06 2.06-.94-2.06-.94L8.5 2.5l-.94 2.06-2.06.94zm10 10l.94 2.06.94-2.06 2.06-.94-2.06-.94-.94-2.06-.94 2.06-2.06.94z\"/><path d=\"M17.41 7.96l-1.37-1.37c-.4-.4-.92-.59-1.43-.59-.52 0-1.04.2-1.43.59L10.3 9.45l-7.72 7.72c-.78.78-.78 2.05 0 2.83L4 21.41c.39.39.9.59 1.41.59.51 0 1.02-.2 1.41-.59l7.78-7.78 2.81-2.81c.8-.78.8-2.07 0-2.86zM5.41 20L4 18.59l7.72-7.72 1.47 1.35L5.41 20z\"/>\n",
              "  </svg>\n",
              "      </button>\n",
              "      \n",
              "  <style>\n",
              "    .colab-df-container {\n",
              "      display:flex;\n",
              "      flex-wrap:wrap;\n",
              "      gap: 12px;\n",
              "    }\n",
              "\n",
              "    .colab-df-convert {\n",
              "      background-color: #E8F0FE;\n",
              "      border: none;\n",
              "      border-radius: 50%;\n",
              "      cursor: pointer;\n",
              "      display: none;\n",
              "      fill: #1967D2;\n",
              "      height: 32px;\n",
              "      padding: 0 0 0 0;\n",
              "      width: 32px;\n",
              "    }\n",
              "\n",
              "    .colab-df-convert:hover {\n",
              "      background-color: #E2EBFA;\n",
              "      box-shadow: 0px 1px 2px rgba(60, 64, 67, 0.3), 0px 1px 3px 1px rgba(60, 64, 67, 0.15);\n",
              "      fill: #174EA6;\n",
              "    }\n",
              "\n",
              "    [theme=dark] .colab-df-convert {\n",
              "      background-color: #3B4455;\n",
              "      fill: #D2E3FC;\n",
              "    }\n",
              "\n",
              "    [theme=dark] .colab-df-convert:hover {\n",
              "      background-color: #434B5C;\n",
              "      box-shadow: 0px 1px 3px 1px rgba(0, 0, 0, 0.15);\n",
              "      filter: drop-shadow(0px 1px 2px rgba(0, 0, 0, 0.3));\n",
              "      fill: #FFFFFF;\n",
              "    }\n",
              "  </style>\n",
              "\n",
              "      <script>\n",
              "        const buttonEl =\n",
              "          document.querySelector('#df-593c9779-d24f-457e-8da1-ada1b1efb313 button.colab-df-convert');\n",
              "        buttonEl.style.display =\n",
              "          google.colab.kernel.accessAllowed ? 'block' : 'none';\n",
              "\n",
              "        async function convertToInteractive(key) {\n",
              "          const element = document.querySelector('#df-593c9779-d24f-457e-8da1-ada1b1efb313');\n",
              "          const dataTable =\n",
              "            await google.colab.kernel.invokeFunction('convertToInteractive',\n",
              "                                                     [key], {});\n",
              "          if (!dataTable) return;\n",
              "\n",
              "          const docLinkHtml = 'Like what you see? Visit the ' +\n",
              "            '<a target=\"_blank\" href=https://colab.research.google.com/notebooks/data_table.ipynb>data table notebook</a>'\n",
              "            + ' to learn more about interactive tables.';\n",
              "          element.innerHTML = '';\n",
              "          dataTable['output_type'] = 'display_data';\n",
              "          await google.colab.output.renderOutput(dataTable, element);\n",
              "          const docLink = document.createElement('div');\n",
              "          docLink.innerHTML = docLinkHtml;\n",
              "          element.appendChild(docLink);\n",
              "        }\n",
              "      </script>\n",
              "    </div>\n",
              "  </div>\n",
              "  "
            ]
          },
          "metadata": {},
          "execution_count": 38
        }
      ],
      "source": [
        "# SAMPEL DATA\n",
        "# MENAMPILKAN 10 DATA PERTAMA\n",
        "df[:10]"
      ]
    },
    {
      "cell_type": "code",
      "execution_count": 39,
      "metadata": {
        "colab": {
          "base_uri": "https://localhost:8080/",
          "height": 459
        },
        "id": "EfvAKkAPsz8m",
        "outputId": "415d2bc9-b6ad-466d-ab0b-7624990b88f5"
      },
      "outputs": [
        {
          "output_type": "execute_result",
          "data": {
            "text/plain": [
              "                      Model  Release date  Max resolution  Low resolution  \\\n",
              "53    Canon EOS-1Ds Mark II          2004          4992.0          3600.0   \n",
              "54   Canon EOS-1Ds Mark III          2007          5616.0          4992.0   \n",
              "52            Canon EOS-1Ds          2002          4064.0          2032.0   \n",
              "825        Ricoh GR Digital          2005          3264.0          2592.0   \n",
              "559                Nikon D3          2007          4256.0          3184.0   \n",
              "834          Ricoh RDC-i500          2001          2048.0          1024.0   \n",
              "558              Nikon D2Xs          2006          4288.0          3216.0   \n",
              "557               Nikon D2X          2004          4288.0          3216.0   \n",
              "556              Nikon D2Hs          2005          2464.0          1840.0   \n",
              "553               Nikon D1X          2001          3008.0          2000.0   \n",
              "\n",
              "     Effective pixels  Zoom wide (W)  Zoom tele (T)  Normal focus range  \\\n",
              "53               16.0            0.0            0.0                 0.0   \n",
              "54               21.0            0.0            0.0                 0.0   \n",
              "52               11.0            0.0            0.0                 0.0   \n",
              "825               8.0           28.0           28.0                30.0   \n",
              "559              12.0            0.0            0.0                 0.0   \n",
              "834               3.0           35.0          105.0                24.0   \n",
              "558              12.0            0.0            0.0                 0.0   \n",
              "557              12.0            0.0            0.0                 0.0   \n",
              "556               4.0            0.0            0.0                 0.0   \n",
              "553               5.0            0.0            0.0                 0.0   \n",
              "\n",
              "     Macro focus range  Storage included  Weight (inc. batteries)  Dimensions  \\\n",
              "53                 0.0               0.0                   1565.0       156.0   \n",
              "54                 0.0               0.0                   1385.0       150.0   \n",
              "52                 0.0               0.0                   1585.0       156.0   \n",
              "825                2.0              26.0                    200.0       107.0   \n",
              "559                0.0               0.0                   1300.0       160.0   \n",
              "834                1.0               8.0                    320.0       142.0   \n",
              "558                0.0               0.0                   1200.0       158.0   \n",
              "557                0.0               0.0                   1200.0       158.0   \n",
              "556                0.0               0.0                   1200.0       158.0   \n",
              "553                0.0               0.0                   1200.0       157.0   \n",
              "\n",
              "      Price  \n",
              "53   7999.0  \n",
              "54   7999.0  \n",
              "52   7999.0  \n",
              "825  4999.0  \n",
              "559  4999.0  \n",
              "834  4999.0  \n",
              "558  4699.0  \n",
              "557  4699.0  \n",
              "556  4699.0  \n",
              "553  4699.0  "
            ],
            "text/html": [
              "\n",
              "  <div id=\"df-b1af62d6-0e78-4f95-b3e3-78c965b209f3\">\n",
              "    <div class=\"colab-df-container\">\n",
              "      <div>\n",
              "<style scoped>\n",
              "    .dataframe tbody tr th:only-of-type {\n",
              "        vertical-align: middle;\n",
              "    }\n",
              "\n",
              "    .dataframe tbody tr th {\n",
              "        vertical-align: top;\n",
              "    }\n",
              "\n",
              "    .dataframe thead th {\n",
              "        text-align: right;\n",
              "    }\n",
              "</style>\n",
              "<table border=\"1\" class=\"dataframe\">\n",
              "  <thead>\n",
              "    <tr style=\"text-align: right;\">\n",
              "      <th></th>\n",
              "      <th>Model</th>\n",
              "      <th>Release date</th>\n",
              "      <th>Max resolution</th>\n",
              "      <th>Low resolution</th>\n",
              "      <th>Effective pixels</th>\n",
              "      <th>Zoom wide (W)</th>\n",
              "      <th>Zoom tele (T)</th>\n",
              "      <th>Normal focus range</th>\n",
              "      <th>Macro focus range</th>\n",
              "      <th>Storage included</th>\n",
              "      <th>Weight (inc. batteries)</th>\n",
              "      <th>Dimensions</th>\n",
              "      <th>Price</th>\n",
              "    </tr>\n",
              "  </thead>\n",
              "  <tbody>\n",
              "    <tr>\n",
              "      <th>53</th>\n",
              "      <td>Canon EOS-1Ds Mark II</td>\n",
              "      <td>2004</td>\n",
              "      <td>4992.0</td>\n",
              "      <td>3600.0</td>\n",
              "      <td>16.0</td>\n",
              "      <td>0.0</td>\n",
              "      <td>0.0</td>\n",
              "      <td>0.0</td>\n",
              "      <td>0.0</td>\n",
              "      <td>0.0</td>\n",
              "      <td>1565.0</td>\n",
              "      <td>156.0</td>\n",
              "      <td>7999.0</td>\n",
              "    </tr>\n",
              "    <tr>\n",
              "      <th>54</th>\n",
              "      <td>Canon EOS-1Ds Mark III</td>\n",
              "      <td>2007</td>\n",
              "      <td>5616.0</td>\n",
              "      <td>4992.0</td>\n",
              "      <td>21.0</td>\n",
              "      <td>0.0</td>\n",
              "      <td>0.0</td>\n",
              "      <td>0.0</td>\n",
              "      <td>0.0</td>\n",
              "      <td>0.0</td>\n",
              "      <td>1385.0</td>\n",
              "      <td>150.0</td>\n",
              "      <td>7999.0</td>\n",
              "    </tr>\n",
              "    <tr>\n",
              "      <th>52</th>\n",
              "      <td>Canon EOS-1Ds</td>\n",
              "      <td>2002</td>\n",
              "      <td>4064.0</td>\n",
              "      <td>2032.0</td>\n",
              "      <td>11.0</td>\n",
              "      <td>0.0</td>\n",
              "      <td>0.0</td>\n",
              "      <td>0.0</td>\n",
              "      <td>0.0</td>\n",
              "      <td>0.0</td>\n",
              "      <td>1585.0</td>\n",
              "      <td>156.0</td>\n",
              "      <td>7999.0</td>\n",
              "    </tr>\n",
              "    <tr>\n",
              "      <th>825</th>\n",
              "      <td>Ricoh GR Digital</td>\n",
              "      <td>2005</td>\n",
              "      <td>3264.0</td>\n",
              "      <td>2592.0</td>\n",
              "      <td>8.0</td>\n",
              "      <td>28.0</td>\n",
              "      <td>28.0</td>\n",
              "      <td>30.0</td>\n",
              "      <td>2.0</td>\n",
              "      <td>26.0</td>\n",
              "      <td>200.0</td>\n",
              "      <td>107.0</td>\n",
              "      <td>4999.0</td>\n",
              "    </tr>\n",
              "    <tr>\n",
              "      <th>559</th>\n",
              "      <td>Nikon D3</td>\n",
              "      <td>2007</td>\n",
              "      <td>4256.0</td>\n",
              "      <td>3184.0</td>\n",
              "      <td>12.0</td>\n",
              "      <td>0.0</td>\n",
              "      <td>0.0</td>\n",
              "      <td>0.0</td>\n",
              "      <td>0.0</td>\n",
              "      <td>0.0</td>\n",
              "      <td>1300.0</td>\n",
              "      <td>160.0</td>\n",
              "      <td>4999.0</td>\n",
              "    </tr>\n",
              "    <tr>\n",
              "      <th>834</th>\n",
              "      <td>Ricoh RDC-i500</td>\n",
              "      <td>2001</td>\n",
              "      <td>2048.0</td>\n",
              "      <td>1024.0</td>\n",
              "      <td>3.0</td>\n",
              "      <td>35.0</td>\n",
              "      <td>105.0</td>\n",
              "      <td>24.0</td>\n",
              "      <td>1.0</td>\n",
              "      <td>8.0</td>\n",
              "      <td>320.0</td>\n",
              "      <td>142.0</td>\n",
              "      <td>4999.0</td>\n",
              "    </tr>\n",
              "    <tr>\n",
              "      <th>558</th>\n",
              "      <td>Nikon D2Xs</td>\n",
              "      <td>2006</td>\n",
              "      <td>4288.0</td>\n",
              "      <td>3216.0</td>\n",
              "      <td>12.0</td>\n",
              "      <td>0.0</td>\n",
              "      <td>0.0</td>\n",
              "      <td>0.0</td>\n",
              "      <td>0.0</td>\n",
              "      <td>0.0</td>\n",
              "      <td>1200.0</td>\n",
              "      <td>158.0</td>\n",
              "      <td>4699.0</td>\n",
              "    </tr>\n",
              "    <tr>\n",
              "      <th>557</th>\n",
              "      <td>Nikon D2X</td>\n",
              "      <td>2004</td>\n",
              "      <td>4288.0</td>\n",
              "      <td>3216.0</td>\n",
              "      <td>12.0</td>\n",
              "      <td>0.0</td>\n",
              "      <td>0.0</td>\n",
              "      <td>0.0</td>\n",
              "      <td>0.0</td>\n",
              "      <td>0.0</td>\n",
              "      <td>1200.0</td>\n",
              "      <td>158.0</td>\n",
              "      <td>4699.0</td>\n",
              "    </tr>\n",
              "    <tr>\n",
              "      <th>556</th>\n",
              "      <td>Nikon D2Hs</td>\n",
              "      <td>2005</td>\n",
              "      <td>2464.0</td>\n",
              "      <td>1840.0</td>\n",
              "      <td>4.0</td>\n",
              "      <td>0.0</td>\n",
              "      <td>0.0</td>\n",
              "      <td>0.0</td>\n",
              "      <td>0.0</td>\n",
              "      <td>0.0</td>\n",
              "      <td>1200.0</td>\n",
              "      <td>158.0</td>\n",
              "      <td>4699.0</td>\n",
              "    </tr>\n",
              "    <tr>\n",
              "      <th>553</th>\n",
              "      <td>Nikon D1X</td>\n",
              "      <td>2001</td>\n",
              "      <td>3008.0</td>\n",
              "      <td>2000.0</td>\n",
              "      <td>5.0</td>\n",
              "      <td>0.0</td>\n",
              "      <td>0.0</td>\n",
              "      <td>0.0</td>\n",
              "      <td>0.0</td>\n",
              "      <td>0.0</td>\n",
              "      <td>1200.0</td>\n",
              "      <td>157.0</td>\n",
              "      <td>4699.0</td>\n",
              "    </tr>\n",
              "  </tbody>\n",
              "</table>\n",
              "</div>\n",
              "      <button class=\"colab-df-convert\" onclick=\"convertToInteractive('df-b1af62d6-0e78-4f95-b3e3-78c965b209f3')\"\n",
              "              title=\"Convert this dataframe to an interactive table.\"\n",
              "              style=\"display:none;\">\n",
              "        \n",
              "  <svg xmlns=\"http://www.w3.org/2000/svg\" height=\"24px\"viewBox=\"0 0 24 24\"\n",
              "       width=\"24px\">\n",
              "    <path d=\"M0 0h24v24H0V0z\" fill=\"none\"/>\n",
              "    <path d=\"M18.56 5.44l.94 2.06.94-2.06 2.06-.94-2.06-.94-.94-2.06-.94 2.06-2.06.94zm-11 1L8.5 8.5l.94-2.06 2.06-.94-2.06-.94L8.5 2.5l-.94 2.06-2.06.94zm10 10l.94 2.06.94-2.06 2.06-.94-2.06-.94-.94-2.06-.94 2.06-2.06.94z\"/><path d=\"M17.41 7.96l-1.37-1.37c-.4-.4-.92-.59-1.43-.59-.52 0-1.04.2-1.43.59L10.3 9.45l-7.72 7.72c-.78.78-.78 2.05 0 2.83L4 21.41c.39.39.9.59 1.41.59.51 0 1.02-.2 1.41-.59l7.78-7.78 2.81-2.81c.8-.78.8-2.07 0-2.86zM5.41 20L4 18.59l7.72-7.72 1.47 1.35L5.41 20z\"/>\n",
              "  </svg>\n",
              "      </button>\n",
              "      \n",
              "  <style>\n",
              "    .colab-df-container {\n",
              "      display:flex;\n",
              "      flex-wrap:wrap;\n",
              "      gap: 12px;\n",
              "    }\n",
              "\n",
              "    .colab-df-convert {\n",
              "      background-color: #E8F0FE;\n",
              "      border: none;\n",
              "      border-radius: 50%;\n",
              "      cursor: pointer;\n",
              "      display: none;\n",
              "      fill: #1967D2;\n",
              "      height: 32px;\n",
              "      padding: 0 0 0 0;\n",
              "      width: 32px;\n",
              "    }\n",
              "\n",
              "    .colab-df-convert:hover {\n",
              "      background-color: #E2EBFA;\n",
              "      box-shadow: 0px 1px 2px rgba(60, 64, 67, 0.3), 0px 1px 3px 1px rgba(60, 64, 67, 0.15);\n",
              "      fill: #174EA6;\n",
              "    }\n",
              "\n",
              "    [theme=dark] .colab-df-convert {\n",
              "      background-color: #3B4455;\n",
              "      fill: #D2E3FC;\n",
              "    }\n",
              "\n",
              "    [theme=dark] .colab-df-convert:hover {\n",
              "      background-color: #434B5C;\n",
              "      box-shadow: 0px 1px 3px 1px rgba(0, 0, 0, 0.15);\n",
              "      filter: drop-shadow(0px 1px 2px rgba(0, 0, 0, 0.3));\n",
              "      fill: #FFFFFF;\n",
              "    }\n",
              "  </style>\n",
              "\n",
              "      <script>\n",
              "        const buttonEl =\n",
              "          document.querySelector('#df-b1af62d6-0e78-4f95-b3e3-78c965b209f3 button.colab-df-convert');\n",
              "        buttonEl.style.display =\n",
              "          google.colab.kernel.accessAllowed ? 'block' : 'none';\n",
              "\n",
              "        async function convertToInteractive(key) {\n",
              "          const element = document.querySelector('#df-b1af62d6-0e78-4f95-b3e3-78c965b209f3');\n",
              "          const dataTable =\n",
              "            await google.colab.kernel.invokeFunction('convertToInteractive',\n",
              "                                                     [key], {});\n",
              "          if (!dataTable) return;\n",
              "\n",
              "          const docLinkHtml = 'Like what you see? Visit the ' +\n",
              "            '<a target=\"_blank\" href=https://colab.research.google.com/notebooks/data_table.ipynb>data table notebook</a>'\n",
              "            + ' to learn more about interactive tables.';\n",
              "          element.innerHTML = '';\n",
              "          dataTable['output_type'] = 'display_data';\n",
              "          await google.colab.output.renderOutput(dataTable, element);\n",
              "          const docLink = document.createElement('div');\n",
              "          docLink.innerHTML = docLinkHtml;\n",
              "          element.appendChild(docLink);\n",
              "        }\n",
              "      </script>\n",
              "    </div>\n",
              "  </div>\n",
              "  "
            ]
          },
          "metadata": {},
          "execution_count": 39
        }
      ],
      "source": [
        "# 10 DATA DENGAN HARGA TERTINGGI\n",
        "df.sort_values([\"Price\"], ascending = [0])[:10] "
      ]
    },
    {
      "cell_type": "code",
      "execution_count": 40,
      "metadata": {
        "colab": {
          "base_uri": "https://localhost:8080/",
          "height": 159
        },
        "id": "DanV9h9Qt9Du",
        "outputId": "08c078f7-7797-440c-8b16-16c09ad9ac6c"
      },
      "outputs": [
        {
          "output_type": "execute_result",
          "data": {
            "text/plain": [
              "                   Model  Release date  Max resolution  Low resolution  \\\n",
              "21  Canon PowerShot A450          2007          2592.0          2048.0   \n",
              "\n",
              "    Effective pixels  Zoom wide (W)  Zoom tele (T)  Normal focus range  \\\n",
              "21               5.0           38.0          122.0                47.0   \n",
              "\n",
              "    Macro focus range  Storage included  Weight (inc. batteries)  Dimensions  \\\n",
              "21                1.0              16.0                    215.0       106.0   \n",
              "\n",
              "    Price  \n",
              "21  139.0  "
            ],
            "text/html": [
              "\n",
              "  <div id=\"df-22ffcf1c-378b-4c2f-8580-5ab5ac9d887e\">\n",
              "    <div class=\"colab-df-container\">\n",
              "      <div>\n",
              "<style scoped>\n",
              "    .dataframe tbody tr th:only-of-type {\n",
              "        vertical-align: middle;\n",
              "    }\n",
              "\n",
              "    .dataframe tbody tr th {\n",
              "        vertical-align: top;\n",
              "    }\n",
              "\n",
              "    .dataframe thead th {\n",
              "        text-align: right;\n",
              "    }\n",
              "</style>\n",
              "<table border=\"1\" class=\"dataframe\">\n",
              "  <thead>\n",
              "    <tr style=\"text-align: right;\">\n",
              "      <th></th>\n",
              "      <th>Model</th>\n",
              "      <th>Release date</th>\n",
              "      <th>Max resolution</th>\n",
              "      <th>Low resolution</th>\n",
              "      <th>Effective pixels</th>\n",
              "      <th>Zoom wide (W)</th>\n",
              "      <th>Zoom tele (T)</th>\n",
              "      <th>Normal focus range</th>\n",
              "      <th>Macro focus range</th>\n",
              "      <th>Storage included</th>\n",
              "      <th>Weight (inc. batteries)</th>\n",
              "      <th>Dimensions</th>\n",
              "      <th>Price</th>\n",
              "    </tr>\n",
              "  </thead>\n",
              "  <tbody>\n",
              "    <tr>\n",
              "      <th>21</th>\n",
              "      <td>Canon PowerShot A450</td>\n",
              "      <td>2007</td>\n",
              "      <td>2592.0</td>\n",
              "      <td>2048.0</td>\n",
              "      <td>5.0</td>\n",
              "      <td>38.0</td>\n",
              "      <td>122.0</td>\n",
              "      <td>47.0</td>\n",
              "      <td>1.0</td>\n",
              "      <td>16.0</td>\n",
              "      <td>215.0</td>\n",
              "      <td>106.0</td>\n",
              "      <td>139.0</td>\n",
              "    </tr>\n",
              "  </tbody>\n",
              "</table>\n",
              "</div>\n",
              "      <button class=\"colab-df-convert\" onclick=\"convertToInteractive('df-22ffcf1c-378b-4c2f-8580-5ab5ac9d887e')\"\n",
              "              title=\"Convert this dataframe to an interactive table.\"\n",
              "              style=\"display:none;\">\n",
              "        \n",
              "  <svg xmlns=\"http://www.w3.org/2000/svg\" height=\"24px\"viewBox=\"0 0 24 24\"\n",
              "       width=\"24px\">\n",
              "    <path d=\"M0 0h24v24H0V0z\" fill=\"none\"/>\n",
              "    <path d=\"M18.56 5.44l.94 2.06.94-2.06 2.06-.94-2.06-.94-.94-2.06-.94 2.06-2.06.94zm-11 1L8.5 8.5l.94-2.06 2.06-.94-2.06-.94L8.5 2.5l-.94 2.06-2.06.94zm10 10l.94 2.06.94-2.06 2.06-.94-2.06-.94-.94-2.06-.94 2.06-2.06.94z\"/><path d=\"M17.41 7.96l-1.37-1.37c-.4-.4-.92-.59-1.43-.59-.52 0-1.04.2-1.43.59L10.3 9.45l-7.72 7.72c-.78.78-.78 2.05 0 2.83L4 21.41c.39.39.9.59 1.41.59.51 0 1.02-.2 1.41-.59l7.78-7.78 2.81-2.81c.8-.78.8-2.07 0-2.86zM5.41 20L4 18.59l7.72-7.72 1.47 1.35L5.41 20z\"/>\n",
              "  </svg>\n",
              "      </button>\n",
              "      \n",
              "  <style>\n",
              "    .colab-df-container {\n",
              "      display:flex;\n",
              "      flex-wrap:wrap;\n",
              "      gap: 12px;\n",
              "    }\n",
              "\n",
              "    .colab-df-convert {\n",
              "      background-color: #E8F0FE;\n",
              "      border: none;\n",
              "      border-radius: 50%;\n",
              "      cursor: pointer;\n",
              "      display: none;\n",
              "      fill: #1967D2;\n",
              "      height: 32px;\n",
              "      padding: 0 0 0 0;\n",
              "      width: 32px;\n",
              "    }\n",
              "\n",
              "    .colab-df-convert:hover {\n",
              "      background-color: #E2EBFA;\n",
              "      box-shadow: 0px 1px 2px rgba(60, 64, 67, 0.3), 0px 1px 3px 1px rgba(60, 64, 67, 0.15);\n",
              "      fill: #174EA6;\n",
              "    }\n",
              "\n",
              "    [theme=dark] .colab-df-convert {\n",
              "      background-color: #3B4455;\n",
              "      fill: #D2E3FC;\n",
              "    }\n",
              "\n",
              "    [theme=dark] .colab-df-convert:hover {\n",
              "      background-color: #434B5C;\n",
              "      box-shadow: 0px 1px 3px 1px rgba(0, 0, 0, 0.15);\n",
              "      filter: drop-shadow(0px 1px 2px rgba(0, 0, 0, 0.3));\n",
              "      fill: #FFFFFF;\n",
              "    }\n",
              "  </style>\n",
              "\n",
              "      <script>\n",
              "        const buttonEl =\n",
              "          document.querySelector('#df-22ffcf1c-378b-4c2f-8580-5ab5ac9d887e button.colab-df-convert');\n",
              "        buttonEl.style.display =\n",
              "          google.colab.kernel.accessAllowed ? 'block' : 'none';\n",
              "\n",
              "        async function convertToInteractive(key) {\n",
              "          const element = document.querySelector('#df-22ffcf1c-378b-4c2f-8580-5ab5ac9d887e');\n",
              "          const dataTable =\n",
              "            await google.colab.kernel.invokeFunction('convertToInteractive',\n",
              "                                                     [key], {});\n",
              "          if (!dataTable) return;\n",
              "\n",
              "          const docLinkHtml = 'Like what you see? Visit the ' +\n",
              "            '<a target=\"_blank\" href=https://colab.research.google.com/notebooks/data_table.ipynb>data table notebook</a>'\n",
              "            + ' to learn more about interactive tables.';\n",
              "          element.innerHTML = '';\n",
              "          dataTable['output_type'] = 'display_data';\n",
              "          await google.colab.output.renderOutput(dataTable, element);\n",
              "          const docLink = document.createElement('div');\n",
              "          docLink.innerHTML = docLinkHtml;\n",
              "          element.appendChild(docLink);\n",
              "        }\n",
              "      </script>\n",
              "    </div>\n",
              "  </div>\n",
              "  "
            ]
          },
          "metadata": {},
          "execution_count": 40
        }
      ],
      "source": [
        "# Data dengan Release date terbaru\n",
        "imax = df[\"Release date\"].idxmax ()\n",
        "df[imax:imax+1]"
      ]
    },
    {
      "cell_type": "code",
      "execution_count": 41,
      "metadata": {
        "colab": {
          "base_uri": "https://localhost:8080/",
          "height": 159
        },
        "id": "nXRFmcP1uDbR",
        "outputId": "47ddde36-09f5-4597-dafb-02e699c59f30"
      },
      "outputs": [
        {
          "output_type": "execute_result",
          "data": {
            "text/plain": [
              "            Model  Release date  Max resolution  Low resolution  \\\n",
              "393  Kodak DCS420          1994          1524.0             0.0   \n",
              "\n",
              "     Effective pixels  Zoom wide (W)  Zoom tele (T)  Normal focus range  \\\n",
              "393               1.0            0.0            0.0                 0.0   \n",
              "\n",
              "     Macro focus range  Storage included  Weight (inc. batteries)  Dimensions  \\\n",
              "393                0.0               0.0                   1700.0       170.0   \n",
              "\n",
              "     Price  \n",
              "393  129.0  "
            ],
            "text/html": [
              "\n",
              "  <div id=\"df-72ed917c-bdd6-46e3-9f1e-fc9656ad61d0\">\n",
              "    <div class=\"colab-df-container\">\n",
              "      <div>\n",
              "<style scoped>\n",
              "    .dataframe tbody tr th:only-of-type {\n",
              "        vertical-align: middle;\n",
              "    }\n",
              "\n",
              "    .dataframe tbody tr th {\n",
              "        vertical-align: top;\n",
              "    }\n",
              "\n",
              "    .dataframe thead th {\n",
              "        text-align: right;\n",
              "    }\n",
              "</style>\n",
              "<table border=\"1\" class=\"dataframe\">\n",
              "  <thead>\n",
              "    <tr style=\"text-align: right;\">\n",
              "      <th></th>\n",
              "      <th>Model</th>\n",
              "      <th>Release date</th>\n",
              "      <th>Max resolution</th>\n",
              "      <th>Low resolution</th>\n",
              "      <th>Effective pixels</th>\n",
              "      <th>Zoom wide (W)</th>\n",
              "      <th>Zoom tele (T)</th>\n",
              "      <th>Normal focus range</th>\n",
              "      <th>Macro focus range</th>\n",
              "      <th>Storage included</th>\n",
              "      <th>Weight (inc. batteries)</th>\n",
              "      <th>Dimensions</th>\n",
              "      <th>Price</th>\n",
              "    </tr>\n",
              "  </thead>\n",
              "  <tbody>\n",
              "    <tr>\n",
              "      <th>393</th>\n",
              "      <td>Kodak DCS420</td>\n",
              "      <td>1994</td>\n",
              "      <td>1524.0</td>\n",
              "      <td>0.0</td>\n",
              "      <td>1.0</td>\n",
              "      <td>0.0</td>\n",
              "      <td>0.0</td>\n",
              "      <td>0.0</td>\n",
              "      <td>0.0</td>\n",
              "      <td>0.0</td>\n",
              "      <td>1700.0</td>\n",
              "      <td>170.0</td>\n",
              "      <td>129.0</td>\n",
              "    </tr>\n",
              "  </tbody>\n",
              "</table>\n",
              "</div>\n",
              "      <button class=\"colab-df-convert\" onclick=\"convertToInteractive('df-72ed917c-bdd6-46e3-9f1e-fc9656ad61d0')\"\n",
              "              title=\"Convert this dataframe to an interactive table.\"\n",
              "              style=\"display:none;\">\n",
              "        \n",
              "  <svg xmlns=\"http://www.w3.org/2000/svg\" height=\"24px\"viewBox=\"0 0 24 24\"\n",
              "       width=\"24px\">\n",
              "    <path d=\"M0 0h24v24H0V0z\" fill=\"none\"/>\n",
              "    <path d=\"M18.56 5.44l.94 2.06.94-2.06 2.06-.94-2.06-.94-.94-2.06-.94 2.06-2.06.94zm-11 1L8.5 8.5l.94-2.06 2.06-.94-2.06-.94L8.5 2.5l-.94 2.06-2.06.94zm10 10l.94 2.06.94-2.06 2.06-.94-2.06-.94-.94-2.06-.94 2.06-2.06.94z\"/><path d=\"M17.41 7.96l-1.37-1.37c-.4-.4-.92-.59-1.43-.59-.52 0-1.04.2-1.43.59L10.3 9.45l-7.72 7.72c-.78.78-.78 2.05 0 2.83L4 21.41c.39.39.9.59 1.41.59.51 0 1.02-.2 1.41-.59l7.78-7.78 2.81-2.81c.8-.78.8-2.07 0-2.86zM5.41 20L4 18.59l7.72-7.72 1.47 1.35L5.41 20z\"/>\n",
              "  </svg>\n",
              "      </button>\n",
              "      \n",
              "  <style>\n",
              "    .colab-df-container {\n",
              "      display:flex;\n",
              "      flex-wrap:wrap;\n",
              "      gap: 12px;\n",
              "    }\n",
              "\n",
              "    .colab-df-convert {\n",
              "      background-color: #E8F0FE;\n",
              "      border: none;\n",
              "      border-radius: 50%;\n",
              "      cursor: pointer;\n",
              "      display: none;\n",
              "      fill: #1967D2;\n",
              "      height: 32px;\n",
              "      padding: 0 0 0 0;\n",
              "      width: 32px;\n",
              "    }\n",
              "\n",
              "    .colab-df-convert:hover {\n",
              "      background-color: #E2EBFA;\n",
              "      box-shadow: 0px 1px 2px rgba(60, 64, 67, 0.3), 0px 1px 3px 1px rgba(60, 64, 67, 0.15);\n",
              "      fill: #174EA6;\n",
              "    }\n",
              "\n",
              "    [theme=dark] .colab-df-convert {\n",
              "      background-color: #3B4455;\n",
              "      fill: #D2E3FC;\n",
              "    }\n",
              "\n",
              "    [theme=dark] .colab-df-convert:hover {\n",
              "      background-color: #434B5C;\n",
              "      box-shadow: 0px 1px 3px 1px rgba(0, 0, 0, 0.15);\n",
              "      filter: drop-shadow(0px 1px 2px rgba(0, 0, 0, 0.3));\n",
              "      fill: #FFFFFF;\n",
              "    }\n",
              "  </style>\n",
              "\n",
              "      <script>\n",
              "        const buttonEl =\n",
              "          document.querySelector('#df-72ed917c-bdd6-46e3-9f1e-fc9656ad61d0 button.colab-df-convert');\n",
              "        buttonEl.style.display =\n",
              "          google.colab.kernel.accessAllowed ? 'block' : 'none';\n",
              "\n",
              "        async function convertToInteractive(key) {\n",
              "          const element = document.querySelector('#df-72ed917c-bdd6-46e3-9f1e-fc9656ad61d0');\n",
              "          const dataTable =\n",
              "            await google.colab.kernel.invokeFunction('convertToInteractive',\n",
              "                                                     [key], {});\n",
              "          if (!dataTable) return;\n",
              "\n",
              "          const docLinkHtml = 'Like what you see? Visit the ' +\n",
              "            '<a target=\"_blank\" href=https://colab.research.google.com/notebooks/data_table.ipynb>data table notebook</a>'\n",
              "            + ' to learn more about interactive tables.';\n",
              "          element.innerHTML = '';\n",
              "          dataTable['output_type'] = 'display_data';\n",
              "          await google.colab.output.renderOutput(dataTable, element);\n",
              "          const docLink = document.createElement('div');\n",
              "          docLink.innerHTML = docLinkHtml;\n",
              "          element.appendChild(docLink);\n",
              "        }\n",
              "      </script>\n",
              "    </div>\n",
              "  </div>\n",
              "  "
            ]
          },
          "metadata": {},
          "execution_count": 41
        }
      ],
      "source": [
        "# Data dengan Release date tertua\n",
        "imin = df[\"Release date\"].idxmin ()\n",
        "df[imin:imin+1]"
      ]
    },
    {
      "cell_type": "code",
      "execution_count": 42,
      "metadata": {
        "colab": {
          "base_uri": "https://localhost:8080/",
          "height": 159
        },
        "id": "ToLGTIxPuKnU",
        "outputId": "ac2ad317-1deb-478a-cc0e-04864be7bb42"
      },
      "outputs": [
        {
          "output_type": "execute_result",
          "data": {
            "text/plain": [
              "            Model  Release date  Max resolution  Low resolution  \\\n",
              "52  Canon EOS-1Ds          2002          4064.0          2032.0   \n",
              "\n",
              "    Effective pixels  Zoom wide (W)  Zoom tele (T)  Normal focus range  \\\n",
              "52              11.0            0.0            0.0                 0.0   \n",
              "\n",
              "    Macro focus range  Storage included  Weight (inc. batteries)  Dimensions  \\\n",
              "52                0.0               0.0                   1585.0       156.0   \n",
              "\n",
              "     Price  \n",
              "52  7999.0  "
            ],
            "text/html": [
              "\n",
              "  <div id=\"df-8d89b45c-415f-4892-baa2-c2f1b1615b81\">\n",
              "    <div class=\"colab-df-container\">\n",
              "      <div>\n",
              "<style scoped>\n",
              "    .dataframe tbody tr th:only-of-type {\n",
              "        vertical-align: middle;\n",
              "    }\n",
              "\n",
              "    .dataframe tbody tr th {\n",
              "        vertical-align: top;\n",
              "    }\n",
              "\n",
              "    .dataframe thead th {\n",
              "        text-align: right;\n",
              "    }\n",
              "</style>\n",
              "<table border=\"1\" class=\"dataframe\">\n",
              "  <thead>\n",
              "    <tr style=\"text-align: right;\">\n",
              "      <th></th>\n",
              "      <th>Model</th>\n",
              "      <th>Release date</th>\n",
              "      <th>Max resolution</th>\n",
              "      <th>Low resolution</th>\n",
              "      <th>Effective pixels</th>\n",
              "      <th>Zoom wide (W)</th>\n",
              "      <th>Zoom tele (T)</th>\n",
              "      <th>Normal focus range</th>\n",
              "      <th>Macro focus range</th>\n",
              "      <th>Storage included</th>\n",
              "      <th>Weight (inc. batteries)</th>\n",
              "      <th>Dimensions</th>\n",
              "      <th>Price</th>\n",
              "    </tr>\n",
              "  </thead>\n",
              "  <tbody>\n",
              "    <tr>\n",
              "      <th>52</th>\n",
              "      <td>Canon EOS-1Ds</td>\n",
              "      <td>2002</td>\n",
              "      <td>4064.0</td>\n",
              "      <td>2032.0</td>\n",
              "      <td>11.0</td>\n",
              "      <td>0.0</td>\n",
              "      <td>0.0</td>\n",
              "      <td>0.0</td>\n",
              "      <td>0.0</td>\n",
              "      <td>0.0</td>\n",
              "      <td>1585.0</td>\n",
              "      <td>156.0</td>\n",
              "      <td>7999.0</td>\n",
              "    </tr>\n",
              "  </tbody>\n",
              "</table>\n",
              "</div>\n",
              "      <button class=\"colab-df-convert\" onclick=\"convertToInteractive('df-8d89b45c-415f-4892-baa2-c2f1b1615b81')\"\n",
              "              title=\"Convert this dataframe to an interactive table.\"\n",
              "              style=\"display:none;\">\n",
              "        \n",
              "  <svg xmlns=\"http://www.w3.org/2000/svg\" height=\"24px\"viewBox=\"0 0 24 24\"\n",
              "       width=\"24px\">\n",
              "    <path d=\"M0 0h24v24H0V0z\" fill=\"none\"/>\n",
              "    <path d=\"M18.56 5.44l.94 2.06.94-2.06 2.06-.94-2.06-.94-.94-2.06-.94 2.06-2.06.94zm-11 1L8.5 8.5l.94-2.06 2.06-.94-2.06-.94L8.5 2.5l-.94 2.06-2.06.94zm10 10l.94 2.06.94-2.06 2.06-.94-2.06-.94-.94-2.06-.94 2.06-2.06.94z\"/><path d=\"M17.41 7.96l-1.37-1.37c-.4-.4-.92-.59-1.43-.59-.52 0-1.04.2-1.43.59L10.3 9.45l-7.72 7.72c-.78.78-.78 2.05 0 2.83L4 21.41c.39.39.9.59 1.41.59.51 0 1.02-.2 1.41-.59l7.78-7.78 2.81-2.81c.8-.78.8-2.07 0-2.86zM5.41 20L4 18.59l7.72-7.72 1.47 1.35L5.41 20z\"/>\n",
              "  </svg>\n",
              "      </button>\n",
              "      \n",
              "  <style>\n",
              "    .colab-df-container {\n",
              "      display:flex;\n",
              "      flex-wrap:wrap;\n",
              "      gap: 12px;\n",
              "    }\n",
              "\n",
              "    .colab-df-convert {\n",
              "      background-color: #E8F0FE;\n",
              "      border: none;\n",
              "      border-radius: 50%;\n",
              "      cursor: pointer;\n",
              "      display: none;\n",
              "      fill: #1967D2;\n",
              "      height: 32px;\n",
              "      padding: 0 0 0 0;\n",
              "      width: 32px;\n",
              "    }\n",
              "\n",
              "    .colab-df-convert:hover {\n",
              "      background-color: #E2EBFA;\n",
              "      box-shadow: 0px 1px 2px rgba(60, 64, 67, 0.3), 0px 1px 3px 1px rgba(60, 64, 67, 0.15);\n",
              "      fill: #174EA6;\n",
              "    }\n",
              "\n",
              "    [theme=dark] .colab-df-convert {\n",
              "      background-color: #3B4455;\n",
              "      fill: #D2E3FC;\n",
              "    }\n",
              "\n",
              "    [theme=dark] .colab-df-convert:hover {\n",
              "      background-color: #434B5C;\n",
              "      box-shadow: 0px 1px 3px 1px rgba(0, 0, 0, 0.15);\n",
              "      filter: drop-shadow(0px 1px 2px rgba(0, 0, 0, 0.3));\n",
              "      fill: #FFFFFF;\n",
              "    }\n",
              "  </style>\n",
              "\n",
              "      <script>\n",
              "        const buttonEl =\n",
              "          document.querySelector('#df-8d89b45c-415f-4892-baa2-c2f1b1615b81 button.colab-df-convert');\n",
              "        buttonEl.style.display =\n",
              "          google.colab.kernel.accessAllowed ? 'block' : 'none';\n",
              "\n",
              "        async function convertToInteractive(key) {\n",
              "          const element = document.querySelector('#df-8d89b45c-415f-4892-baa2-c2f1b1615b81');\n",
              "          const dataTable =\n",
              "            await google.colab.kernel.invokeFunction('convertToInteractive',\n",
              "                                                     [key], {});\n",
              "          if (!dataTable) return;\n",
              "\n",
              "          const docLinkHtml = 'Like what you see? Visit the ' +\n",
              "            '<a target=\"_blank\" href=https://colab.research.google.com/notebooks/data_table.ipynb>data table notebook</a>'\n",
              "            + ' to learn more about interactive tables.';\n",
              "          element.innerHTML = '';\n",
              "          dataTable['output_type'] = 'display_data';\n",
              "          await google.colab.output.renderOutput(dataTable, element);\n",
              "          const docLink = document.createElement('div');\n",
              "          docLink.innerHTML = docLinkHtml;\n",
              "          element.appendChild(docLink);\n",
              "        }\n",
              "      </script>\n",
              "    </div>\n",
              "  </div>\n",
              "  "
            ]
          },
          "metadata": {},
          "execution_count": 42
        }
      ],
      "source": [
        "# Data dengan harga termahal\n",
        "imax = df[\"Price\"].idxmax ()\n",
        "df[imax:imax+1]"
      ]
    },
    {
      "cell_type": "code",
      "execution_count": 43,
      "metadata": {
        "colab": {
          "base_uri": "https://localhost:8080/",
          "height": 159
        },
        "id": "YvGUipQFuQK_",
        "outputId": "cb2b7150-985c-4f9e-abe4-5790180f56b6"
      },
      "outputs": [
        {
          "output_type": "execute_result",
          "data": {
            "text/plain": [
              "            Model  Release date  Max resolution  Low resolution  \\\n",
              "347  JVC GC-QX3HD          2001          2032.0          1024.0   \n",
              "\n",
              "     Effective pixels  Zoom wide (W)  Zoom tele (T)  Normal focus range  \\\n",
              "347               3.0           37.0           86.0                50.0   \n",
              "\n",
              "     Macro focus range  Storage included  Weight (inc. batteries)  Dimensions  \\\n",
              "347                2.0               8.0                    320.0       111.0   \n",
              "\n",
              "     Price  \n",
              "347   14.0  "
            ],
            "text/html": [
              "\n",
              "  <div id=\"df-d897df5c-1399-4e3f-815a-373c569825f0\">\n",
              "    <div class=\"colab-df-container\">\n",
              "      <div>\n",
              "<style scoped>\n",
              "    .dataframe tbody tr th:only-of-type {\n",
              "        vertical-align: middle;\n",
              "    }\n",
              "\n",
              "    .dataframe tbody tr th {\n",
              "        vertical-align: top;\n",
              "    }\n",
              "\n",
              "    .dataframe thead th {\n",
              "        text-align: right;\n",
              "    }\n",
              "</style>\n",
              "<table border=\"1\" class=\"dataframe\">\n",
              "  <thead>\n",
              "    <tr style=\"text-align: right;\">\n",
              "      <th></th>\n",
              "      <th>Model</th>\n",
              "      <th>Release date</th>\n",
              "      <th>Max resolution</th>\n",
              "      <th>Low resolution</th>\n",
              "      <th>Effective pixels</th>\n",
              "      <th>Zoom wide (W)</th>\n",
              "      <th>Zoom tele (T)</th>\n",
              "      <th>Normal focus range</th>\n",
              "      <th>Macro focus range</th>\n",
              "      <th>Storage included</th>\n",
              "      <th>Weight (inc. batteries)</th>\n",
              "      <th>Dimensions</th>\n",
              "      <th>Price</th>\n",
              "    </tr>\n",
              "  </thead>\n",
              "  <tbody>\n",
              "    <tr>\n",
              "      <th>347</th>\n",
              "      <td>JVC GC-QX3HD</td>\n",
              "      <td>2001</td>\n",
              "      <td>2032.0</td>\n",
              "      <td>1024.0</td>\n",
              "      <td>3.0</td>\n",
              "      <td>37.0</td>\n",
              "      <td>86.0</td>\n",
              "      <td>50.0</td>\n",
              "      <td>2.0</td>\n",
              "      <td>8.0</td>\n",
              "      <td>320.0</td>\n",
              "      <td>111.0</td>\n",
              "      <td>14.0</td>\n",
              "    </tr>\n",
              "  </tbody>\n",
              "</table>\n",
              "</div>\n",
              "      <button class=\"colab-df-convert\" onclick=\"convertToInteractive('df-d897df5c-1399-4e3f-815a-373c569825f0')\"\n",
              "              title=\"Convert this dataframe to an interactive table.\"\n",
              "              style=\"display:none;\">\n",
              "        \n",
              "  <svg xmlns=\"http://www.w3.org/2000/svg\" height=\"24px\"viewBox=\"0 0 24 24\"\n",
              "       width=\"24px\">\n",
              "    <path d=\"M0 0h24v24H0V0z\" fill=\"none\"/>\n",
              "    <path d=\"M18.56 5.44l.94 2.06.94-2.06 2.06-.94-2.06-.94-.94-2.06-.94 2.06-2.06.94zm-11 1L8.5 8.5l.94-2.06 2.06-.94-2.06-.94L8.5 2.5l-.94 2.06-2.06.94zm10 10l.94 2.06.94-2.06 2.06-.94-2.06-.94-.94-2.06-.94 2.06-2.06.94z\"/><path d=\"M17.41 7.96l-1.37-1.37c-.4-.4-.92-.59-1.43-.59-.52 0-1.04.2-1.43.59L10.3 9.45l-7.72 7.72c-.78.78-.78 2.05 0 2.83L4 21.41c.39.39.9.59 1.41.59.51 0 1.02-.2 1.41-.59l7.78-7.78 2.81-2.81c.8-.78.8-2.07 0-2.86zM5.41 20L4 18.59l7.72-7.72 1.47 1.35L5.41 20z\"/>\n",
              "  </svg>\n",
              "      </button>\n",
              "      \n",
              "  <style>\n",
              "    .colab-df-container {\n",
              "      display:flex;\n",
              "      flex-wrap:wrap;\n",
              "      gap: 12px;\n",
              "    }\n",
              "\n",
              "    .colab-df-convert {\n",
              "      background-color: #E8F0FE;\n",
              "      border: none;\n",
              "      border-radius: 50%;\n",
              "      cursor: pointer;\n",
              "      display: none;\n",
              "      fill: #1967D2;\n",
              "      height: 32px;\n",
              "      padding: 0 0 0 0;\n",
              "      width: 32px;\n",
              "    }\n",
              "\n",
              "    .colab-df-convert:hover {\n",
              "      background-color: #E2EBFA;\n",
              "      box-shadow: 0px 1px 2px rgba(60, 64, 67, 0.3), 0px 1px 3px 1px rgba(60, 64, 67, 0.15);\n",
              "      fill: #174EA6;\n",
              "    }\n",
              "\n",
              "    [theme=dark] .colab-df-convert {\n",
              "      background-color: #3B4455;\n",
              "      fill: #D2E3FC;\n",
              "    }\n",
              "\n",
              "    [theme=dark] .colab-df-convert:hover {\n",
              "      background-color: #434B5C;\n",
              "      box-shadow: 0px 1px 3px 1px rgba(0, 0, 0, 0.15);\n",
              "      filter: drop-shadow(0px 1px 2px rgba(0, 0, 0, 0.3));\n",
              "      fill: #FFFFFF;\n",
              "    }\n",
              "  </style>\n",
              "\n",
              "      <script>\n",
              "        const buttonEl =\n",
              "          document.querySelector('#df-d897df5c-1399-4e3f-815a-373c569825f0 button.colab-df-convert');\n",
              "        buttonEl.style.display =\n",
              "          google.colab.kernel.accessAllowed ? 'block' : 'none';\n",
              "\n",
              "        async function convertToInteractive(key) {\n",
              "          const element = document.querySelector('#df-d897df5c-1399-4e3f-815a-373c569825f0');\n",
              "          const dataTable =\n",
              "            await google.colab.kernel.invokeFunction('convertToInteractive',\n",
              "                                                     [key], {});\n",
              "          if (!dataTable) return;\n",
              "\n",
              "          const docLinkHtml = 'Like what you see? Visit the ' +\n",
              "            '<a target=\"_blank\" href=https://colab.research.google.com/notebooks/data_table.ipynb>data table notebook</a>'\n",
              "            + ' to learn more about interactive tables.';\n",
              "          element.innerHTML = '';\n",
              "          dataTable['output_type'] = 'display_data';\n",
              "          await google.colab.output.renderOutput(dataTable, element);\n",
              "          const docLink = document.createElement('div');\n",
              "          docLink.innerHTML = docLinkHtml;\n",
              "          element.appendChild(docLink);\n",
              "        }\n",
              "      </script>\n",
              "    </div>\n",
              "  </div>\n",
              "  "
            ]
          },
          "metadata": {},
          "execution_count": 43
        }
      ],
      "source": [
        "# Data dengan harga termurah\n",
        "imin = df[\"Price\"].idxmin ()\n",
        "df[imin:imin+1]"
      ]
    },
    {
      "cell_type": "code",
      "execution_count": 44,
      "metadata": {
        "colab": {
          "base_uri": "https://localhost:8080/"
        },
        "id": "VQNlAU8uDa8U",
        "outputId": "99b2911a-9207-474a-b26b-09fd65cd6bd1"
      },
      "outputs": [
        {
          "output_type": "execute_result",
          "data": {
            "text/plain": [
              "Release date\n",
              "1994    129.000000\n",
              "1995    129.000000\n",
              "1996    554.000000\n",
              "1997    367.181818\n",
              "1998    382.750000\n",
              "1999    349.641509\n",
              "2000    482.442623\n",
              "2001    635.188235\n",
              "2002    552.370787\n",
              "2003    413.316832\n",
              "2004    507.673759\n",
              "2005    448.930070\n",
              "2006    367.934641\n",
              "2007    436.036810\n",
              "Name: Price, dtype: float64"
            ]
          },
          "metadata": {},
          "execution_count": 44
        }
      ],
      "source": [
        "# Menentukan harga rata-rata dari tahun ke tahun\n",
        "df.groupby([\"Release date\"])[\"Price\"].mean()"
      ]
    },
    {
      "cell_type": "code",
      "execution_count": 45,
      "metadata": {
        "colab": {
          "base_uri": "https://localhost:8080/"
        },
        "id": "UaCa2LzEF7Xv",
        "outputId": "962bda61-1a4a-421f-ebea-1968132c4ca5"
      },
      "outputs": [
        {
          "output_type": "execute_result",
          "data": {
            "text/plain": [
              "Release date\n",
              "1994    1.000000\n",
              "1995    6.000000\n",
              "1996    0.000000\n",
              "1997    0.181818\n",
              "1998    0.906250\n",
              "1999    1.132075\n",
              "2000    1.901639\n",
              "2001    2.094118\n",
              "2002    2.741573\n",
              "2003    3.465347\n",
              "2004    4.617021\n",
              "2005    5.545455\n",
              "2006    6.712418\n",
              "2007    8.061350\n",
              "Name: Effective pixels, dtype: float64"
            ]
          },
          "metadata": {},
          "execution_count": 45
        }
      ],
      "source": [
        "# Menentukan Effective pixels dari tahun ke tahun\n",
        "df.groupby([\"Release date\"])[\"Effective pixels\"].mean()"
      ]
    },
    {
      "cell_type": "code",
      "execution_count": 46,
      "metadata": {
        "colab": {
          "base_uri": "https://localhost:8080/"
        },
        "id": "9iIHK-y5GB68",
        "outputId": "0409624e-edc0-4ee8-fa1a-0344386d25da"
      },
      "outputs": [
        {
          "output_type": "execute_result",
          "data": {
            "text/plain": [
              "Release date\n",
              "1994    1524.000000\n",
              "1995    3060.000000\n",
              "1996     784.000000\n",
              "1997     849.454545\n",
              "1998    1282.500000\n",
              "1999    1470.339623\n",
              "2000    1796.590164\n",
              "2001    1866.647059\n",
              "2002    2095.595506\n",
              "2003    2263.732673\n",
              "2004    2535.042553\n",
              "2005    2754.678322\n",
              "2006    3017.464052\n",
              "2007    3289.840491\n",
              "Name: Max resolution, dtype: float64"
            ]
          },
          "metadata": {},
          "execution_count": 46
        }
      ],
      "source": [
        "# Menentukan Max resolution dari tahun ke tahun\n",
        "df.groupby([\"Release date\"])[\"Max resolution\"].mean()"
      ]
    },
    {
      "cell_type": "code",
      "execution_count": 47,
      "metadata": {
        "colab": {
          "base_uri": "https://localhost:8080/"
        },
        "id": "Bf8mpTfAGLMQ",
        "outputId": "be0993a7-d3c8-44e1-f64d-eb2fc464e564"
      },
      "outputs": [
        {
          "output_type": "execute_result",
          "data": {
            "text/plain": [
              "Release date\n",
              "1994    170.000000\n",
              "1995    170.000000\n",
              "1996    153.000000\n",
              "1997    113.454545\n",
              "1998    122.531250\n",
              "1999    117.132075\n",
              "2000    108.049180\n",
              "2001    115.629412\n",
              "2002    106.011236\n",
              "2003    102.747525\n",
              "2004    102.028369\n",
              "2005    100.832168\n",
              "2006    102.618421\n",
              "2007     99.953704\n",
              "Name: Dimensions, dtype: float64"
            ]
          },
          "metadata": {},
          "execution_count": 47
        }
      ],
      "source": [
        "# Menentukan Dimensions dari tahun ke tahun\n",
        "df.groupby([\"Release date\"])[\"Dimensions\"].mean()"
      ]
    },
    {
      "cell_type": "code",
      "execution_count": 48,
      "metadata": {
        "colab": {
          "base_uri": "https://localhost:8080/",
          "height": 344
        },
        "id": "8ComzGVpGTjs",
        "outputId": "d78122a3-bf6b-4e1e-c40f-b7201d9737d2"
      },
      "outputs": [
        {
          "output_type": "execute_result",
          "data": {
            "text/plain": [
              "       Release date  Max resolution  Low resolution  Effective pixels  \\\n",
              "count   1038.000000     1038.000000     1038.000000       1038.000000   \n",
              "mean    2003.590559     2474.672447     1773.936416          4.596339   \n",
              "std        2.724755      759.513608      830.897955          2.844044   \n",
              "min     1994.000000        0.000000        0.000000          0.000000   \n",
              "25%     2002.000000     2048.000000     1120.000000          3.000000   \n",
              "50%     2004.000000     2560.000000     2048.000000          4.000000   \n",
              "75%     2006.000000     3072.000000     2560.000000          7.000000   \n",
              "max     2007.000000     5616.000000     4992.000000         21.000000   \n",
              "\n",
              "       Zoom wide (W)  Zoom tele (T)  Normal focus range  Macro focus range  \\\n",
              "count    1038.000000    1038.000000         1038.000000        1037.000000   \n",
              "mean       32.963391     121.525048           44.145472           7.787850   \n",
              "std        10.333149      93.455422           24.141959           8.100081   \n",
              "min         0.000000       0.000000            0.000000           0.000000   \n",
              "25%        35.000000      96.000000           30.000000           3.000000   \n",
              "50%        36.000000     108.000000           50.000000           6.000000   \n",
              "75%        38.000000     117.000000           60.000000          10.000000   \n",
              "max        52.000000     518.000000          120.000000          85.000000   \n",
              "\n",
              "       Storage included  Weight (inc. batteries)   Dimensions        Price  \n",
              "count       1036.000000              1036.000000  1036.000000  1038.000000  \n",
              "mean          17.447876               319.265444   105.363417   457.384393  \n",
              "std           27.440655               260.410137    24.262761   760.452918  \n",
              "min            0.000000                 0.000000     0.000000    14.000000  \n",
              "25%            8.000000               180.000000    92.000000   149.000000  \n",
              "50%           16.000000               226.000000   101.000000   199.000000  \n",
              "75%           20.000000               350.000000   115.000000   399.000000  \n",
              "max          450.000000              1860.000000   240.000000  7999.000000  "
            ],
            "text/html": [
              "\n",
              "  <div id=\"df-23e4fa2a-91c6-4ebe-a4fa-28aa16c119d1\">\n",
              "    <div class=\"colab-df-container\">\n",
              "      <div>\n",
              "<style scoped>\n",
              "    .dataframe tbody tr th:only-of-type {\n",
              "        vertical-align: middle;\n",
              "    }\n",
              "\n",
              "    .dataframe tbody tr th {\n",
              "        vertical-align: top;\n",
              "    }\n",
              "\n",
              "    .dataframe thead th {\n",
              "        text-align: right;\n",
              "    }\n",
              "</style>\n",
              "<table border=\"1\" class=\"dataframe\">\n",
              "  <thead>\n",
              "    <tr style=\"text-align: right;\">\n",
              "      <th></th>\n",
              "      <th>Release date</th>\n",
              "      <th>Max resolution</th>\n",
              "      <th>Low resolution</th>\n",
              "      <th>Effective pixels</th>\n",
              "      <th>Zoom wide (W)</th>\n",
              "      <th>Zoom tele (T)</th>\n",
              "      <th>Normal focus range</th>\n",
              "      <th>Macro focus range</th>\n",
              "      <th>Storage included</th>\n",
              "      <th>Weight (inc. batteries)</th>\n",
              "      <th>Dimensions</th>\n",
              "      <th>Price</th>\n",
              "    </tr>\n",
              "  </thead>\n",
              "  <tbody>\n",
              "    <tr>\n",
              "      <th>count</th>\n",
              "      <td>1038.000000</td>\n",
              "      <td>1038.000000</td>\n",
              "      <td>1038.000000</td>\n",
              "      <td>1038.000000</td>\n",
              "      <td>1038.000000</td>\n",
              "      <td>1038.000000</td>\n",
              "      <td>1038.000000</td>\n",
              "      <td>1037.000000</td>\n",
              "      <td>1036.000000</td>\n",
              "      <td>1036.000000</td>\n",
              "      <td>1036.000000</td>\n",
              "      <td>1038.000000</td>\n",
              "    </tr>\n",
              "    <tr>\n",
              "      <th>mean</th>\n",
              "      <td>2003.590559</td>\n",
              "      <td>2474.672447</td>\n",
              "      <td>1773.936416</td>\n",
              "      <td>4.596339</td>\n",
              "      <td>32.963391</td>\n",
              "      <td>121.525048</td>\n",
              "      <td>44.145472</td>\n",
              "      <td>7.787850</td>\n",
              "      <td>17.447876</td>\n",
              "      <td>319.265444</td>\n",
              "      <td>105.363417</td>\n",
              "      <td>457.384393</td>\n",
              "    </tr>\n",
              "    <tr>\n",
              "      <th>std</th>\n",
              "      <td>2.724755</td>\n",
              "      <td>759.513608</td>\n",
              "      <td>830.897955</td>\n",
              "      <td>2.844044</td>\n",
              "      <td>10.333149</td>\n",
              "      <td>93.455422</td>\n",
              "      <td>24.141959</td>\n",
              "      <td>8.100081</td>\n",
              "      <td>27.440655</td>\n",
              "      <td>260.410137</td>\n",
              "      <td>24.262761</td>\n",
              "      <td>760.452918</td>\n",
              "    </tr>\n",
              "    <tr>\n",
              "      <th>min</th>\n",
              "      <td>1994.000000</td>\n",
              "      <td>0.000000</td>\n",
              "      <td>0.000000</td>\n",
              "      <td>0.000000</td>\n",
              "      <td>0.000000</td>\n",
              "      <td>0.000000</td>\n",
              "      <td>0.000000</td>\n",
              "      <td>0.000000</td>\n",
              "      <td>0.000000</td>\n",
              "      <td>0.000000</td>\n",
              "      <td>0.000000</td>\n",
              "      <td>14.000000</td>\n",
              "    </tr>\n",
              "    <tr>\n",
              "      <th>25%</th>\n",
              "      <td>2002.000000</td>\n",
              "      <td>2048.000000</td>\n",
              "      <td>1120.000000</td>\n",
              "      <td>3.000000</td>\n",
              "      <td>35.000000</td>\n",
              "      <td>96.000000</td>\n",
              "      <td>30.000000</td>\n",
              "      <td>3.000000</td>\n",
              "      <td>8.000000</td>\n",
              "      <td>180.000000</td>\n",
              "      <td>92.000000</td>\n",
              "      <td>149.000000</td>\n",
              "    </tr>\n",
              "    <tr>\n",
              "      <th>50%</th>\n",
              "      <td>2004.000000</td>\n",
              "      <td>2560.000000</td>\n",
              "      <td>2048.000000</td>\n",
              "      <td>4.000000</td>\n",
              "      <td>36.000000</td>\n",
              "      <td>108.000000</td>\n",
              "      <td>50.000000</td>\n",
              "      <td>6.000000</td>\n",
              "      <td>16.000000</td>\n",
              "      <td>226.000000</td>\n",
              "      <td>101.000000</td>\n",
              "      <td>199.000000</td>\n",
              "    </tr>\n",
              "    <tr>\n",
              "      <th>75%</th>\n",
              "      <td>2006.000000</td>\n",
              "      <td>3072.000000</td>\n",
              "      <td>2560.000000</td>\n",
              "      <td>7.000000</td>\n",
              "      <td>38.000000</td>\n",
              "      <td>117.000000</td>\n",
              "      <td>60.000000</td>\n",
              "      <td>10.000000</td>\n",
              "      <td>20.000000</td>\n",
              "      <td>350.000000</td>\n",
              "      <td>115.000000</td>\n",
              "      <td>399.000000</td>\n",
              "    </tr>\n",
              "    <tr>\n",
              "      <th>max</th>\n",
              "      <td>2007.000000</td>\n",
              "      <td>5616.000000</td>\n",
              "      <td>4992.000000</td>\n",
              "      <td>21.000000</td>\n",
              "      <td>52.000000</td>\n",
              "      <td>518.000000</td>\n",
              "      <td>120.000000</td>\n",
              "      <td>85.000000</td>\n",
              "      <td>450.000000</td>\n",
              "      <td>1860.000000</td>\n",
              "      <td>240.000000</td>\n",
              "      <td>7999.000000</td>\n",
              "    </tr>\n",
              "  </tbody>\n",
              "</table>\n",
              "</div>\n",
              "      <button class=\"colab-df-convert\" onclick=\"convertToInteractive('df-23e4fa2a-91c6-4ebe-a4fa-28aa16c119d1')\"\n",
              "              title=\"Convert this dataframe to an interactive table.\"\n",
              "              style=\"display:none;\">\n",
              "        \n",
              "  <svg xmlns=\"http://www.w3.org/2000/svg\" height=\"24px\"viewBox=\"0 0 24 24\"\n",
              "       width=\"24px\">\n",
              "    <path d=\"M0 0h24v24H0V0z\" fill=\"none\"/>\n",
              "    <path d=\"M18.56 5.44l.94 2.06.94-2.06 2.06-.94-2.06-.94-.94-2.06-.94 2.06-2.06.94zm-11 1L8.5 8.5l.94-2.06 2.06-.94-2.06-.94L8.5 2.5l-.94 2.06-2.06.94zm10 10l.94 2.06.94-2.06 2.06-.94-2.06-.94-.94-2.06-.94 2.06-2.06.94z\"/><path d=\"M17.41 7.96l-1.37-1.37c-.4-.4-.92-.59-1.43-.59-.52 0-1.04.2-1.43.59L10.3 9.45l-7.72 7.72c-.78.78-.78 2.05 0 2.83L4 21.41c.39.39.9.59 1.41.59.51 0 1.02-.2 1.41-.59l7.78-7.78 2.81-2.81c.8-.78.8-2.07 0-2.86zM5.41 20L4 18.59l7.72-7.72 1.47 1.35L5.41 20z\"/>\n",
              "  </svg>\n",
              "      </button>\n",
              "      \n",
              "  <style>\n",
              "    .colab-df-container {\n",
              "      display:flex;\n",
              "      flex-wrap:wrap;\n",
              "      gap: 12px;\n",
              "    }\n",
              "\n",
              "    .colab-df-convert {\n",
              "      background-color: #E8F0FE;\n",
              "      border: none;\n",
              "      border-radius: 50%;\n",
              "      cursor: pointer;\n",
              "      display: none;\n",
              "      fill: #1967D2;\n",
              "      height: 32px;\n",
              "      padding: 0 0 0 0;\n",
              "      width: 32px;\n",
              "    }\n",
              "\n",
              "    .colab-df-convert:hover {\n",
              "      background-color: #E2EBFA;\n",
              "      box-shadow: 0px 1px 2px rgba(60, 64, 67, 0.3), 0px 1px 3px 1px rgba(60, 64, 67, 0.15);\n",
              "      fill: #174EA6;\n",
              "    }\n",
              "\n",
              "    [theme=dark] .colab-df-convert {\n",
              "      background-color: #3B4455;\n",
              "      fill: #D2E3FC;\n",
              "    }\n",
              "\n",
              "    [theme=dark] .colab-df-convert:hover {\n",
              "      background-color: #434B5C;\n",
              "      box-shadow: 0px 1px 3px 1px rgba(0, 0, 0, 0.15);\n",
              "      filter: drop-shadow(0px 1px 2px rgba(0, 0, 0, 0.3));\n",
              "      fill: #FFFFFF;\n",
              "    }\n",
              "  </style>\n",
              "\n",
              "      <script>\n",
              "        const buttonEl =\n",
              "          document.querySelector('#df-23e4fa2a-91c6-4ebe-a4fa-28aa16c119d1 button.colab-df-convert');\n",
              "        buttonEl.style.display =\n",
              "          google.colab.kernel.accessAllowed ? 'block' : 'none';\n",
              "\n",
              "        async function convertToInteractive(key) {\n",
              "          const element = document.querySelector('#df-23e4fa2a-91c6-4ebe-a4fa-28aa16c119d1');\n",
              "          const dataTable =\n",
              "            await google.colab.kernel.invokeFunction('convertToInteractive',\n",
              "                                                     [key], {});\n",
              "          if (!dataTable) return;\n",
              "\n",
              "          const docLinkHtml = 'Like what you see? Visit the ' +\n",
              "            '<a target=\"_blank\" href=https://colab.research.google.com/notebooks/data_table.ipynb>data table notebook</a>'\n",
              "            + ' to learn more about interactive tables.';\n",
              "          element.innerHTML = '';\n",
              "          dataTable['output_type'] = 'display_data';\n",
              "          await google.colab.output.renderOutput(dataTable, element);\n",
              "          const docLink = document.createElement('div');\n",
              "          docLink.innerHTML = docLinkHtml;\n",
              "          element.appendChild(docLink);\n",
              "        }\n",
              "      </script>\n",
              "    </div>\n",
              "  </div>\n",
              "  "
            ]
          },
          "metadata": {},
          "execution_count": 48
        }
      ],
      "source": [
        "# Gambaran umum setiap data\n",
        "df.describe()"
      ]
    },
    {
      "cell_type": "code",
      "execution_count": 49,
      "metadata": {
        "colab": {
          "base_uri": "https://localhost:8080/"
        },
        "id": "h2yxdC8PHiar",
        "outputId": "95d96f74-f8c1-4ef3-a11c-8170a8172215"
      },
      "outputs": [
        {
          "output_type": "stream",
          "name": "stdout",
          "text": [
            "1. Release date\n",
            "Rata-rata: 2003.5905587668594\n",
            "Persentil: \n",
            "\t10%: 2000.0\n",
            "\t25%: 2002.0\n",
            "\t50%: 2004.0\n",
            "\t75%: 2006.0\n",
            "\t90%: 2007.0\n",
            "Nilai ekstrim: \n",
            "\tMax: 2007\n",
            "\tMin: 1994\n",
            "\n",
            "2. Max resolution\n",
            "Rata-rata: 2474.6724470134873\n",
            "Persentil: \n",
            "\t10%: 1536.0\n",
            "\t25%: 2048.0\n",
            "\t50%: 2560.0\n",
            "\t75%: 3072.0\n",
            "\t90%: 3264.0\n",
            "Nilai ekstrim: \n",
            "\tMax: 5616.0\n",
            "\tMin: 0.0\n",
            "\n",
            "3. Low resolution\n",
            "Rata-rata: 1773.936416184971\n",
            "Persentil: \n",
            "\t10%: 640.0\n",
            "\t25%: 1120.0\n",
            "\t50%: 2048.0\n",
            "\t75%: 2560.0\n",
            "\t90%: 2592.0\n",
            "Nilai ekstrim: \n",
            "\tMax: 4992.0\n",
            "\tMin: 0.0\n",
            "\n",
            "4. Effective pixels\n",
            "Rata-rata: 4.596339113680155\n",
            "Persentil: \n",
            "\t10%: 1.0\n",
            "\t25%: 3.0\n",
            "\t50%: 4.0\n",
            "\t75%: 7.0\n",
            "\t90%: 8.0\n",
            "Nilai ekstrim: \n",
            "\tMax: 21.0\n",
            "\tMin: 0.0\n",
            "\n",
            "5. Zoom wide (W)\n",
            "Rata-rata: 32.96339113680154\n",
            "Persentil: \n",
            "\t10%: 28.0\n",
            "\t25%: 35.0\n",
            "\t50%: 36.0\n",
            "\t75%: 38.0\n",
            "\t90%: 38.0\n",
            "Nilai ekstrim: \n",
            "\tMax: 52.0\n",
            "\tMin: 0.0\n",
            "\n",
            "6. Zoom tele (T)\n",
            "Rata-rata: 121.52504816955684\n",
            "Persentil: \n",
            "\t10%: 35.0\n",
            "\t25%: 96.0\n",
            "\t50%: 108.0\n",
            "\t75%: 117.0\n",
            "\t90%: 210.0\n",
            "Nilai ekstrim: \n",
            "\tMax: 518.0\n",
            "\tMin: 0.0\n",
            "\n",
            "7. Normal focus range\n",
            "Rata-rata: 44.14547206165703\n",
            "Persentil: \n",
            "\t10%: 0.0\n",
            "\t25%: 30.0\n",
            "\t50%: 50.0\n",
            "\t75%: 60.0\n",
            "\t90%: 80.0\n",
            "Nilai ekstrim: \n",
            "\tMax: 120.0\n",
            "\tMin: 0.0\n",
            "\n",
            "8. Macro focus range\n",
            "Rata-rata: 7.787849566055931\n",
            "Persentil: \n",
            "\t10%: 0.0\n",
            "\t25%: 3.0\n",
            "\t50%: 6.0\n",
            "\t75%: 10.0\n",
            "\t90%: 17.0\n",
            "Nilai ekstrim: \n",
            "\tMax: 85.0\n",
            "\tMin: 0.0\n",
            "\n",
            "9. Storage included\n",
            "Rata-rata: 17.44787644787645\n",
            "Persentil: \n",
            "\t10%: 0.0\n",
            "\t25%: 8.0\n",
            "\t50%: 16.0\n",
            "\t75%: 20.0\n",
            "\t90%: 32.0\n",
            "Nilai ekstrim: \n",
            "\tMax: 450.0\n",
            "\tMin: 0.0\n",
            "\n",
            "10. Weight (inc. batteries)\n",
            "Rata-rata: 319.265444015444\n",
            "Persentil: \n",
            "\t10%: 154.0\n",
            "\t25%: 180.0\n",
            "\t50%: 226.0\n",
            "\t75%: 350.0\n",
            "\t90%: 606.0\n",
            "Nilai ekstrim: \n",
            "\tMax: 1860.0\n",
            "\tMin: 0.0\n",
            "\n",
            "11. Dimensions\n",
            "Rata-rata: 105.36341698841699\n",
            "Persentil: \n",
            "\t10%: 87.5\n",
            "\t25%: 92.0\n",
            "\t50%: 101.0\n",
            "\t75%: 115.0\n",
            "\t90%: 138.0\n",
            "Nilai ekstrim: \n",
            "\tMax: 240.0\n",
            "\tMin: 0.0\n",
            "\n",
            "12. Price\n",
            "Rata-rata: 457.38439306358384\n",
            "Persentil: \n",
            "\t10%: 129.0\n",
            "\t25%: 149.0\n",
            "\t50%: 199.0\n",
            "\t75%: 399.0\n",
            "\t90%: 1429.0000000000068\n",
            "Nilai ekstrim: \n",
            "\tMax: 7999.0\n",
            "\tMin: 14.0\n",
            "\n"
          ]
        }
      ],
      "source": [
        "# Statistik data camera\n",
        "numericData = [\"Release date\", \"Max resolution\", \"Low resolution\", \"Effective pixels\", \"Zoom wide (W)\", \"Zoom tele (T)\", \"Normal focus range\", \"Macro focus range\", \"Storage included\", \"Weight (inc. batteries)\", \"Dimensions\", \"Price\"]\n",
        "for i in range(len(numericData)):\n",
        "    data = numericData[i]\n",
        "    print(str(i+1) + \". \" + data)\n",
        "    print(\"Rata-rata: \" + str(df[data].mean()))\n",
        "    print(\"Persentil: \")\n",
        "    print(\"\\t10%: \" + str(df[data].quantile(0.10)))\n",
        "    print(\"\\t25%: \" + str(df[data].quantile(0.25)))\n",
        "    print(\"\\t50%: \" + str(df[data].quantile(0.50)))\n",
        "    print(\"\\t75%: \" + str(df[data].quantile(0.75)))\n",
        "    print(\"\\t90%: \" + str(df[data].quantile(0.90)))\n",
        "    print(\"Nilai ekstrim: \")\n",
        "    print(\"\\tMax: \" + str(df[data].max()))\n",
        "    print(\"\\tMin: \" + str(df[data].min()))\n",
        "    print()"
      ]
    },
    {
      "cell_type": "code",
      "execution_count": 50,
      "metadata": {
        "colab": {
          "base_uri": "https://localhost:8080/",
          "height": 551
        },
        "id": "NOkFpgeNUuNr",
        "outputId": "cb648a36-91d7-4080-c631-9baa25d3b6d7"
      },
      "outputs": [
        {
          "output_type": "execute_result",
          "data": {
            "text/plain": [
              "                                  Max resolution  Low resolution  \\\n",
              "Release date Model                                                 \n",
              "1994         Kodak DCS420                 1524.0             0.0   \n",
              "1995         Kodak DCS460                 3060.0             0.0   \n",
              "1996         Canon PowerShot 600           832.0           640.0   \n",
              "             Casio QV-300                  640.0           320.0   \n",
              "             Olympus D-200L                640.0           320.0   \n",
              "...                                          ...             ...   \n",
              "2007         Sony DSC-W35                 3072.0          2592.0   \n",
              "             Sony DSC-W55                 3072.0          2592.0   \n",
              "             Sony DSC-W80                 3072.0          2592.0   \n",
              "             Sony DSC-W90                 3254.0          2592.0   \n",
              "             Sony DSLR-A700               4272.0          3104.0   \n",
              "\n",
              "                                  Effective pixels  Zoom wide (W)  \\\n",
              "Release date Model                                                  \n",
              "1994         Kodak DCS420                      1.0            0.0   \n",
              "1995         Kodak DCS460                      6.0            0.0   \n",
              "1996         Canon PowerShot 600               0.0           50.0   \n",
              "             Casio QV-300                      0.0           47.0   \n",
              "             Olympus D-200L                    0.0           36.0   \n",
              "...                                            ...            ...   \n",
              "2007         Sony DSC-W35                      7.0           38.0   \n",
              "             Sony DSC-W55                      7.0           38.0   \n",
              "             Sony DSC-W80                      7.0           35.0   \n",
              "             Sony DSC-W90                      8.0           35.0   \n",
              "             Sony DSLR-A700                   12.0            0.0   \n",
              "\n",
              "                                  Zoom tele (T)  Normal focus range  \\\n",
              "Release date Model                                                    \n",
              "1994         Kodak DCS420                   0.0                 0.0   \n",
              "1995         Kodak DCS460                   0.0                 0.0   \n",
              "1996         Canon PowerShot 600           50.0                40.0   \n",
              "             Casio QV-300                 106.0                60.0   \n",
              "             Olympus D-200L                36.0                75.0   \n",
              "...                                         ...                 ...   \n",
              "2007         Sony DSC-W35                 114.0                30.0   \n",
              "             Sony DSC-W55                 114.0                30.0   \n",
              "             Sony DSC-W80                 105.0                50.0   \n",
              "             Sony DSC-W90                 105.0                50.0   \n",
              "             Sony DSLR-A700                 0.0                 0.0   \n",
              "\n",
              "                                  Macro focus range  Storage included  \\\n",
              "Release date Model                                                      \n",
              "1994         Kodak DCS420                       0.0               0.0   \n",
              "1995         Kodak DCS460                       0.0               0.0   \n",
              "1996         Canon PowerShot 600               10.0               1.0   \n",
              "             Casio QV-300                       9.0               4.0   \n",
              "             Olympus D-200L                    20.0               2.0   \n",
              "...                                             ...               ...   \n",
              "2007         Sony DSC-W35                       2.0              56.0   \n",
              "             Sony DSC-W55                       2.0              56.0   \n",
              "             Sony DSC-W80                       4.0              31.0   \n",
              "             Sony DSC-W90                       4.0              31.0   \n",
              "             Sony DSLR-A700                     0.0               0.0   \n",
              "\n",
              "                                  Weight (inc. batteries)  Dimensions  Price  \n",
              "Release date Model                                                            \n",
              "1994         Kodak DCS420                          1700.0       170.0  129.0  \n",
              "1995         Kodak DCS460                          1700.0       170.0  129.0  \n",
              "1996         Canon PowerShot 600                    460.0       160.0  139.0  \n",
              "             Casio QV-300                           290.0       162.0  249.0  \n",
              "             Olympus D-200L                         320.0       145.0  129.0  \n",
              "...                                                   ...         ...    ...  \n",
              "2007         Sony DSC-W35                           149.0        90.0  429.0  \n",
              "             Sony DSC-W55                           147.0        90.0  429.0  \n",
              "             Sony DSC-W80                           175.0        91.0  149.0  \n",
              "             Sony DSC-W90                           175.0        91.0  429.0  \n",
              "             Sony DSLR-A700                         768.0       142.0  599.0  \n",
              "\n",
              "[1038 rows x 11 columns]"
            ],
            "text/html": [
              "\n",
              "  <div id=\"df-00ca1f23-7be1-4e34-ac6d-c604a3e8d039\">\n",
              "    <div class=\"colab-df-container\">\n",
              "      <div>\n",
              "<style scoped>\n",
              "    .dataframe tbody tr th:only-of-type {\n",
              "        vertical-align: middle;\n",
              "    }\n",
              "\n",
              "    .dataframe tbody tr th {\n",
              "        vertical-align: top;\n",
              "    }\n",
              "\n",
              "    .dataframe thead th {\n",
              "        text-align: right;\n",
              "    }\n",
              "</style>\n",
              "<table border=\"1\" class=\"dataframe\">\n",
              "  <thead>\n",
              "    <tr style=\"text-align: right;\">\n",
              "      <th></th>\n",
              "      <th></th>\n",
              "      <th>Max resolution</th>\n",
              "      <th>Low resolution</th>\n",
              "      <th>Effective pixels</th>\n",
              "      <th>Zoom wide (W)</th>\n",
              "      <th>Zoom tele (T)</th>\n",
              "      <th>Normal focus range</th>\n",
              "      <th>Macro focus range</th>\n",
              "      <th>Storage included</th>\n",
              "      <th>Weight (inc. batteries)</th>\n",
              "      <th>Dimensions</th>\n",
              "      <th>Price</th>\n",
              "    </tr>\n",
              "    <tr>\n",
              "      <th>Release date</th>\n",
              "      <th>Model</th>\n",
              "      <th></th>\n",
              "      <th></th>\n",
              "      <th></th>\n",
              "      <th></th>\n",
              "      <th></th>\n",
              "      <th></th>\n",
              "      <th></th>\n",
              "      <th></th>\n",
              "      <th></th>\n",
              "      <th></th>\n",
              "      <th></th>\n",
              "    </tr>\n",
              "  </thead>\n",
              "  <tbody>\n",
              "    <tr>\n",
              "      <th>1994</th>\n",
              "      <th>Kodak DCS420</th>\n",
              "      <td>1524.0</td>\n",
              "      <td>0.0</td>\n",
              "      <td>1.0</td>\n",
              "      <td>0.0</td>\n",
              "      <td>0.0</td>\n",
              "      <td>0.0</td>\n",
              "      <td>0.0</td>\n",
              "      <td>0.0</td>\n",
              "      <td>1700.0</td>\n",
              "      <td>170.0</td>\n",
              "      <td>129.0</td>\n",
              "    </tr>\n",
              "    <tr>\n",
              "      <th>1995</th>\n",
              "      <th>Kodak DCS460</th>\n",
              "      <td>3060.0</td>\n",
              "      <td>0.0</td>\n",
              "      <td>6.0</td>\n",
              "      <td>0.0</td>\n",
              "      <td>0.0</td>\n",
              "      <td>0.0</td>\n",
              "      <td>0.0</td>\n",
              "      <td>0.0</td>\n",
              "      <td>1700.0</td>\n",
              "      <td>170.0</td>\n",
              "      <td>129.0</td>\n",
              "    </tr>\n",
              "    <tr>\n",
              "      <th rowspan=\"3\" valign=\"top\">1996</th>\n",
              "      <th>Canon PowerShot 600</th>\n",
              "      <td>832.0</td>\n",
              "      <td>640.0</td>\n",
              "      <td>0.0</td>\n",
              "      <td>50.0</td>\n",
              "      <td>50.0</td>\n",
              "      <td>40.0</td>\n",
              "      <td>10.0</td>\n",
              "      <td>1.0</td>\n",
              "      <td>460.0</td>\n",
              "      <td>160.0</td>\n",
              "      <td>139.0</td>\n",
              "    </tr>\n",
              "    <tr>\n",
              "      <th>Casio QV-300</th>\n",
              "      <td>640.0</td>\n",
              "      <td>320.0</td>\n",
              "      <td>0.0</td>\n",
              "      <td>47.0</td>\n",
              "      <td>106.0</td>\n",
              "      <td>60.0</td>\n",
              "      <td>9.0</td>\n",
              "      <td>4.0</td>\n",
              "      <td>290.0</td>\n",
              "      <td>162.0</td>\n",
              "      <td>249.0</td>\n",
              "    </tr>\n",
              "    <tr>\n",
              "      <th>Olympus D-200L</th>\n",
              "      <td>640.0</td>\n",
              "      <td>320.0</td>\n",
              "      <td>0.0</td>\n",
              "      <td>36.0</td>\n",
              "      <td>36.0</td>\n",
              "      <td>75.0</td>\n",
              "      <td>20.0</td>\n",
              "      <td>2.0</td>\n",
              "      <td>320.0</td>\n",
              "      <td>145.0</td>\n",
              "      <td>129.0</td>\n",
              "    </tr>\n",
              "    <tr>\n",
              "      <th>...</th>\n",
              "      <th>...</th>\n",
              "      <td>...</td>\n",
              "      <td>...</td>\n",
              "      <td>...</td>\n",
              "      <td>...</td>\n",
              "      <td>...</td>\n",
              "      <td>...</td>\n",
              "      <td>...</td>\n",
              "      <td>...</td>\n",
              "      <td>...</td>\n",
              "      <td>...</td>\n",
              "      <td>...</td>\n",
              "    </tr>\n",
              "    <tr>\n",
              "      <th rowspan=\"5\" valign=\"top\">2007</th>\n",
              "      <th>Sony DSC-W35</th>\n",
              "      <td>3072.0</td>\n",
              "      <td>2592.0</td>\n",
              "      <td>7.0</td>\n",
              "      <td>38.0</td>\n",
              "      <td>114.0</td>\n",
              "      <td>30.0</td>\n",
              "      <td>2.0</td>\n",
              "      <td>56.0</td>\n",
              "      <td>149.0</td>\n",
              "      <td>90.0</td>\n",
              "      <td>429.0</td>\n",
              "    </tr>\n",
              "    <tr>\n",
              "      <th>Sony DSC-W55</th>\n",
              "      <td>3072.0</td>\n",
              "      <td>2592.0</td>\n",
              "      <td>7.0</td>\n",
              "      <td>38.0</td>\n",
              "      <td>114.0</td>\n",
              "      <td>30.0</td>\n",
              "      <td>2.0</td>\n",
              "      <td>56.0</td>\n",
              "      <td>147.0</td>\n",
              "      <td>90.0</td>\n",
              "      <td>429.0</td>\n",
              "    </tr>\n",
              "    <tr>\n",
              "      <th>Sony DSC-W80</th>\n",
              "      <td>3072.0</td>\n",
              "      <td>2592.0</td>\n",
              "      <td>7.0</td>\n",
              "      <td>35.0</td>\n",
              "      <td>105.0</td>\n",
              "      <td>50.0</td>\n",
              "      <td>4.0</td>\n",
              "      <td>31.0</td>\n",
              "      <td>175.0</td>\n",
              "      <td>91.0</td>\n",
              "      <td>149.0</td>\n",
              "    </tr>\n",
              "    <tr>\n",
              "      <th>Sony DSC-W90</th>\n",
              "      <td>3254.0</td>\n",
              "      <td>2592.0</td>\n",
              "      <td>8.0</td>\n",
              "      <td>35.0</td>\n",
              "      <td>105.0</td>\n",
              "      <td>50.0</td>\n",
              "      <td>4.0</td>\n",
              "      <td>31.0</td>\n",
              "      <td>175.0</td>\n",
              "      <td>91.0</td>\n",
              "      <td>429.0</td>\n",
              "    </tr>\n",
              "    <tr>\n",
              "      <th>Sony DSLR-A700</th>\n",
              "      <td>4272.0</td>\n",
              "      <td>3104.0</td>\n",
              "      <td>12.0</td>\n",
              "      <td>0.0</td>\n",
              "      <td>0.0</td>\n",
              "      <td>0.0</td>\n",
              "      <td>0.0</td>\n",
              "      <td>0.0</td>\n",
              "      <td>768.0</td>\n",
              "      <td>142.0</td>\n",
              "      <td>599.0</td>\n",
              "    </tr>\n",
              "  </tbody>\n",
              "</table>\n",
              "<p>1038 rows × 11 columns</p>\n",
              "</div>\n",
              "      <button class=\"colab-df-convert\" onclick=\"convertToInteractive('df-00ca1f23-7be1-4e34-ac6d-c604a3e8d039')\"\n",
              "              title=\"Convert this dataframe to an interactive table.\"\n",
              "              style=\"display:none;\">\n",
              "        \n",
              "  <svg xmlns=\"http://www.w3.org/2000/svg\" height=\"24px\"viewBox=\"0 0 24 24\"\n",
              "       width=\"24px\">\n",
              "    <path d=\"M0 0h24v24H0V0z\" fill=\"none\"/>\n",
              "    <path d=\"M18.56 5.44l.94 2.06.94-2.06 2.06-.94-2.06-.94-.94-2.06-.94 2.06-2.06.94zm-11 1L8.5 8.5l.94-2.06 2.06-.94-2.06-.94L8.5 2.5l-.94 2.06-2.06.94zm10 10l.94 2.06.94-2.06 2.06-.94-2.06-.94-.94-2.06-.94 2.06-2.06.94z\"/><path d=\"M17.41 7.96l-1.37-1.37c-.4-.4-.92-.59-1.43-.59-.52 0-1.04.2-1.43.59L10.3 9.45l-7.72 7.72c-.78.78-.78 2.05 0 2.83L4 21.41c.39.39.9.59 1.41.59.51 0 1.02-.2 1.41-.59l7.78-7.78 2.81-2.81c.8-.78.8-2.07 0-2.86zM5.41 20L4 18.59l7.72-7.72 1.47 1.35L5.41 20z\"/>\n",
              "  </svg>\n",
              "      </button>\n",
              "      \n",
              "  <style>\n",
              "    .colab-df-container {\n",
              "      display:flex;\n",
              "      flex-wrap:wrap;\n",
              "      gap: 12px;\n",
              "    }\n",
              "\n",
              "    .colab-df-convert {\n",
              "      background-color: #E8F0FE;\n",
              "      border: none;\n",
              "      border-radius: 50%;\n",
              "      cursor: pointer;\n",
              "      display: none;\n",
              "      fill: #1967D2;\n",
              "      height: 32px;\n",
              "      padding: 0 0 0 0;\n",
              "      width: 32px;\n",
              "    }\n",
              "\n",
              "    .colab-df-convert:hover {\n",
              "      background-color: #E2EBFA;\n",
              "      box-shadow: 0px 1px 2px rgba(60, 64, 67, 0.3), 0px 1px 3px 1px rgba(60, 64, 67, 0.15);\n",
              "      fill: #174EA6;\n",
              "    }\n",
              "\n",
              "    [theme=dark] .colab-df-convert {\n",
              "      background-color: #3B4455;\n",
              "      fill: #D2E3FC;\n",
              "    }\n",
              "\n",
              "    [theme=dark] .colab-df-convert:hover {\n",
              "      background-color: #434B5C;\n",
              "      box-shadow: 0px 1px 3px 1px rgba(0, 0, 0, 0.15);\n",
              "      filter: drop-shadow(0px 1px 2px rgba(0, 0, 0, 0.3));\n",
              "      fill: #FFFFFF;\n",
              "    }\n",
              "  </style>\n",
              "\n",
              "      <script>\n",
              "        const buttonEl =\n",
              "          document.querySelector('#df-00ca1f23-7be1-4e34-ac6d-c604a3e8d039 button.colab-df-convert');\n",
              "        buttonEl.style.display =\n",
              "          google.colab.kernel.accessAllowed ? 'block' : 'none';\n",
              "\n",
              "        async function convertToInteractive(key) {\n",
              "          const element = document.querySelector('#df-00ca1f23-7be1-4e34-ac6d-c604a3e8d039');\n",
              "          const dataTable =\n",
              "            await google.colab.kernel.invokeFunction('convertToInteractive',\n",
              "                                                     [key], {});\n",
              "          if (!dataTable) return;\n",
              "\n",
              "          const docLinkHtml = 'Like what you see? Visit the ' +\n",
              "            '<a target=\"_blank\" href=https://colab.research.google.com/notebooks/data_table.ipynb>data table notebook</a>'\n",
              "            + ' to learn more about interactive tables.';\n",
              "          element.innerHTML = '';\n",
              "          dataTable['output_type'] = 'display_data';\n",
              "          await google.colab.output.renderOutput(dataTable, element);\n",
              "          const docLink = document.createElement('div');\n",
              "          docLink.innerHTML = docLinkHtml;\n",
              "          element.appendChild(docLink);\n",
              "        }\n",
              "      </script>\n",
              "    </div>\n",
              "  </div>\n",
              "  "
            ]
          },
          "metadata": {},
          "execution_count": 50
        }
      ],
      "source": [
        "# Mengurutkan model sesuai dengan tahun rilis\n",
        "df.groupby([\"Release date\", \"Model\"]).sum()"
      ]
    },
    {
      "cell_type": "markdown",
      "metadata": {
        "id": "uOw27XaJSTK2"
      },
      "source": [
        "**VISUALISASI**\n"
      ]
    },
    {
      "cell_type": "code",
      "execution_count": 51,
      "metadata": {
        "colab": {
          "base_uri": "https://localhost:8080/",
          "height": 654
        },
        "id": "GqdXKzagD_co",
        "outputId": "31ad77a7-920a-4878-e562-171c8531c313"
      },
      "outputs": [
        {
          "output_type": "execute_result",
          "data": {
            "text/plain": [
              "<matplotlib.axes._subplots.AxesSubplot at 0x7f1684f75070>"
            ]
          },
          "metadata": {},
          "execution_count": 51
        },
        {
          "output_type": "display_data",
          "data": {
            "text/plain": [
              "<Figure size 432x288 with 1 Axes>"
            ],
            "image/png": "[encoded data removed]"
          },
          "metadata": {
            "needs_background": "light"
          }
        },
        {
          "output_type": "display_data",
          "data": {
            "text/plain": [
              "<Figure size 432x288 with 1 Axes>"
            ],
            "image/png": "[encoded data removed]"
          },
          "metadata": {
            "needs_background": "light"
          }
        }
      ],
      "source": [
        "# 1. PERBANDINGAN KATEGORI\n",
        "#Perbandingan harga kamera dengan Effective pixels\n",
        "#Perbandingan ini untuk melihat apakah semakin mahal harganya, Effective pixels nya semakin besar\n",
        "a=df.loc[(df[\"Effective pixels\"]>=0)&(df[\"Effective pixels\"]<=5)]\n",
        "b=df.loc[(df[\"Effective pixels\"]>5)&(df[\"Effective pixels\"]<=10)]\n",
        "c=df.loc[(df[\"Effective pixels\"]>10)&(df[\"Effective pixels\"]<=15)]\n",
        "d=df.loc[(df[\"Effective pixels\"]>15)&(df[\"Effective pixels\"]<=20)]\n",
        "e=df.loc[(df[\"Effective pixels\"]>20)&(df[\"Effective pixels\"]<=25)]\n",
        "banyak_a=a[\"Effective pixels\"].count()\n",
        "banyak_b=b[\"Effective pixels\"].count()\n",
        "banyak_c=c[\"Effective pixels\"].count()\n",
        "banyak_d=d[\"Effective pixels\"].count()\n",
        "banyak_e=e[\"Effective pixels\"].count()\n",
        "dfj={'range Effective pixels':[\"0-5\",\"5-10\",\"10-15\",\"15-20\",\"20-25\"],'jumlah':[banyak_a,banyak_b,banyak_c,banyak_d,banyak_e]}\n",
        "dfjj=pd.DataFrame(data=dfj)\n",
        "dfjj.plot(kind=\"bar\",x=\"range Effective pixels\", y=\"jumlah\",color=\"y\", title=\"Perbandingan Jumlah Kamera berdasarkan Range Effective pixels\")\n",
        "#Perbandingan harga setiap kamera\n",
        "#Karena data tersebut memiliki banyak variasi harga, maka menentukan perbandingannya adalah dengan range harga\n",
        "#Misalkan berapa banyak kamera yang memiliki range harga sekitar 10-300 dan seterusnya\n",
        "a=df.loc[(df[\"Price\"]>=10)&(df[\"Price\"]<=300)]\n",
        "b=df.loc[(df[\"Price\"]>300)&(df[\"Price\"]<=1000)]\n",
        "c=df.loc[(df[\"Price\"]>1000)&(df[\"Price\"]<=3000)]\n",
        "d=df.loc[(df[\"Price\"]>3000)&(df[\"Price\"]<=5000)]\n",
        "e=df.loc[(df[\"Price\"]>5000)&(df[\"Price\"]<=8000)]\n",
        "banyak_a=a[\"Price\"].count()\n",
        "banyak_b=b[\"Price\"].count()\n",
        "banyak_c=c[\"Price\"].count()   \n",
        "banyak_d=d[\"Price\"].count()\n",
        "banyak_e=e[\"Price\"].count()\n",
        "dfj={'range harga':[\"10-300\",\"300-1000\",\"1000-3000\",\"3000-5000\",\"5000-8000\"],'jumlah':[banyak_a,banyak_b,banyak_c,banyak_d,banyak_e]}\n",
        "dfjj=pd.DataFrame(data=dfj)\n",
        "dfjj.plot(kind=\"bar\",x=\"range harga\", y=\"jumlah\", color=\"m\",title=\"Perbandingan Jumlah Kamera berdasarkan Range Harga\")"
      ]
    },
    {
      "cell_type": "code",
      "execution_count": 52,
      "metadata": {
        "colab": {
          "base_uri": "https://localhost:8080/",
          "height": 283
        },
        "id": "Uk65-ZHNKk2F",
        "outputId": "f2b836f8-2de5-4c73-9e5d-02b0bcc02a31"
      },
      "outputs": [
        {
          "output_type": "execute_result",
          "data": {
            "text/plain": [
              "<matplotlib.axes._subplots.AxesSubplot at 0x7f1684e94550>"
            ]
          },
          "metadata": {},
          "execution_count": 52
        },
        {
          "output_type": "display_data",
          "data": {
            "text/plain": [
              "<Figure size 432x288 with 1 Axes>"
            ],
            "image/png": "[encoded data removed]"
          },
          "metadata": {
            "needs_background": "light"
          }
        }
      ],
      "source": [
        "# 2. PENAMPILAN PERUBAHAN TERHADAP WAKTU\n",
        "#Perubahan jumlah kamera baru setiap tahunnya\n",
        "#Kalau kita melihat sekilas dari tabel, setiap tahun belum tentu memiliki keluaran kamera baru yang sama jumlahnya.\n",
        "#Sehingga diharapkan jika menggunakan visualisasi data, dapat terlihat penampilan perubahan banyaknya kamera baru setiap tahunnya\n",
        "df1=df['Release date'].value_counts().sort_index()\n",
        "df1.plot(kind='line',x='Release date', color=\"c\",y='counts')"
      ]
    },
    {
      "cell_type": "code",
      "execution_count": 56,
      "metadata": {
        "colab": {
          "base_uri": "https://localhost:8080/",
          "height": 1000
        },
        "id": "GcNN0qZnBwOA",
        "outputId": "88205b1f-849c-41b4-897e-35e59555f8d1"
      },
      "outputs": [
        {
          "output_type": "display_data",
          "data": {
            "text/plain": [
              "<Figure size 1152x576 with 1 Axes>"
            ],
            "image/png": "[encoded data removed]"
          },
          "metadata": {
            "needs_background": "light"
          }
        },
        {
          "output_type": "display_data",
          "data": {
            "text/plain": [
              "<Figure size 1152x576 with 1 Axes>"
            ],
            "image/png": "[encoded data removed]"
          },
          "metadata": {
            "needs_background": "light"
          }
        },
        {
          "output_type": "display_data",
          "data": {
            "text/plain": [
              "<Figure size 1152x576 with 1 Axes>"
            ],
            "image/png": "[encoded data removed]"
          },
          "metadata": {
            "needs_background": "light"
          }
        },
        {
          "output_type": "display_data",
          "data": {
            "text/plain": [
              "<Figure size 1152x576 with 1 Axes>"
            ],
            "image/png": "[encoded data removed]"
          },
          "metadata": {
            "needs_background": "light"
          }
        }
      ],
      "source": [
        "#Perubahan Max resolution dari tahun 1994-1998\n",
        "df.groupby(\"Release date\")[\"Price\"].value_counts()[:22].unstack().plot(kind=\"bar\", figsize=(16, 8),stacked=True, legend=True)\n",
        "plt.ylabel(\"Max resolution\")\n",
        "plt.title(\"Perkembangan Max resolution dari tahun 1994-1998 dengan perbandingan Price\")\n",
        "plt.show()\n",
        "#Perubahan Max resolution dari tahun 1998-2001\n",
        "df.groupby(\"Release date\")[\"Price\"].value_counts()[22:71].unstack().plot(kind=\"bar\", figsize=(16,8),stacked=True, legend=True)\n",
        "plt.ylabel(\"Max resolution\")\n",
        "plt.title(\"Perkembangan Max resolution dari tahun 1998-2001 dengan perbandingan Price\")\n",
        "plt.show()\n",
        "#Perubahan Max resolution dari tahun 2001-2005\n",
        "df.groupby(\"Release date\")[\"Price\"].value_counts()[71:163].unstack().plot(kind=\"bar\", figsize=(16,8),stacked=True, legend=True)\n",
        "plt.ylabel(\"Max resolution\")\n",
        "plt.title(\"Perkembangan Max resolution dari tahun 2001-2005 dengan perbandingan Price\")\n",
        "plt.show()\n",
        "#Perubahan Max resolution dari tahun 2005-2007\n",
        "df.groupby(\"Release date\")[\"Price\"].value_counts()[163:220].unstack().plot(kind=\"bar\", figsize=(16,8),stacked=True, legend=True)\n",
        "plt.ylabel(\"Max resolution\")\n",
        "plt.title(\"Perkembangan Max resolution dari tahun 2005-2007 dengan perbandingan Price\")\n",
        "plt.show()"
      ]
    },
    {
      "cell_type": "code",
      "execution_count": 58,
      "metadata": {
        "colab": {
          "base_uri": "https://localhost:8080/",
          "height": 529
        },
        "id": "xwViyNW_PElJ",
        "outputId": "5950a1be-c7c0-4ef9-bb1e-e9fa05188439"
      },
      "outputs": [
        {
          "output_type": "execute_result",
          "data": {
            "text/plain": [
              "<matplotlib.axes._subplots.AxesSubplot at 0x7f16850541f0>"
            ]
          },
          "metadata": {},
          "execution_count": 58
        },
        {
          "output_type": "display_data",
          "data": {
            "text/plain": [
              "<Figure size 432x288 with 1 Axes>"
            ],
            "image/png": "[encoded data removed]"
          },
          "metadata": {}
        },
        {
          "output_type": "display_data",
          "data": {
            "text/plain": [
              "<Figure size 432x288 with 1 Axes>"
            ],
            "image/png": "[encoded data removed]"
          },
          "metadata": {}
        }
      ],
      "source": [
        "# 3. PENAMPILAN HIERARKI DAN HUBUNGAN KESELURUHAN-BAGIAN\n",
        "#Perbandingan hierarki jumlah kamera setiap tahun\n",
        "#Dengan menggunakan pie chart kita dapat melihat persentase hierarki jumlah kamera pada setiap tahunnya\n",
        "df[\"Release date\"].value_counts().plot(kind= \"pie\", title= \"Perbandingan Jumlah Kamera Setiap Tahun\", autopct=\"%1.1f%%\")\n",
        "plt.show\n",
        "#Perbandingan hierarki range Max resolution berdasarkan range nya\n",
        "a=df.loc[(df[\"Max resolution\"]>=0)&(df[\"Max resolution\"]<=1000)]\n",
        "b=df.loc[(df[\"Max resolution\"]>1000)&(df[\"Max resolution\"]<=2000)]\n",
        "c=df.loc[(df[\"Max resolution\"]>2000)&(df[\"Max resolution\"]<=3000)]\n",
        "d=df.loc[(df[\"Max resolution\"]>3000)&(df[\"Max resolution\"]<=4000)]\n",
        "e=df.loc[(df[\"Max resolution\"]>4000)&(df[\"Max resolution\"]<=5000)]\n",
        "f=df.loc[(df[\"Max resolution\"]>5000)&(df[\"Max resolution\"]<=6000)]\n",
        "banyak_a=a[\"Max resolution\"].count()\n",
        "banyak_b=b[\"Max resolution\"].count()\n",
        "banyak_c=c[\"Max resolution\"].count()\n",
        "banyak_d=d[\"Max resolution\"].count()\n",
        "banyak_e=e[\"Max resolution\"].count()\n",
        "banyak_f=f[\"Max resolution\"].count()\n",
        "dfj={'range Max resolution':[\"0-1000\",\"1000-2000\",\"2000-3000\",\"3000-4000\",\"4000-5000\",\"5000-6000\"],'jumlah':[banyak_a,banyak_b,banyak_c,banyak_d,banyak_e,banyak_f]}\n",
        "dfjj=pd.DataFrame(data=dfj)\n",
        "dfjj.plot(kind=\"pie\",x=\"range Max resolution\", y=\"jumlah\", title=\"Perbandingan Jumlah Kamera berdasarkan Range Max Resolution\",autopct=\"%1.1f%%\")"
      ]
    },
    {
      "cell_type": "code",
      "execution_count": null,
      "metadata": {
        "colab": {
          "base_uri": "https://localhost:8080/",
          "height": 590
        },
        "id": "o3fz2jCN4L2h",
        "outputId": "37007d3b-d405-46af-df8f-db7089390b83"
      },
      "outputs": [
        {
          "data": {
            "text/plain": [
              "<matplotlib.axes._subplots.AxesSubplot at 0x7f7be8bbbad0>"
            ]
          },
          "execution_count": 4,
          "metadata": {},
          "output_type": "execute_result"
        },
        {
          "data": {
            "image/png": "[encoded data removed]",
            "text/plain": [
              "<Figure size 432x288 with 1 Axes>"
            ]
          },
          "metadata": {},
          "output_type": "display_data"
        },
        {
          "data": {
            "image/png": "[encoded data removed]",
            "text/plain": [
              "<Figure size 432x288 with 1 Axes>"
            ]
          },
          "metadata": {},
          "output_type": "display_data"
        }
      ],
      "source": [
        "# 4. PLOTTING RELATIONSHIP\n",
        "#Hubungan korelasi antara Normal focus range dengan harga\n",
        "df.plot(kind=\"scatter\", x=\"Normal focus range\", y=\"Price\", color=\"r\",title=\"Grafik Hubungan antara Normal focus range dengan Harga\")\n",
        "#Hubungan korelasi antara tahun keluar dengan Max resolutions\n",
        "df.plot(kind=\"scatter\", x=\"Max resolution\", y=\"Release date\",color=\"g\", title=\"Grafik Hubungan antara Tahun Keluar dengan Max resolution\")"
      ]
    },
    {
      "cell_type": "markdown",
      "metadata": {
        "id": "Ag3bbdld2Uav"
      },
      "source": [
        "**KORELASI**"
      ]
    },
    {
      "cell_type": "code",
      "execution_count": null,
      "metadata": {
        "colab": {
          "base_uri": "https://localhost:8080/"
        },
        "id": "Icpa3JFi2cgv",
        "outputId": "3fbbcc04-539d-450c-f183-82b12d6d1911"
      },
      "outputs": [
        {
          "name": "stdout",
          "output_type": "stream",
          "text": [
            "<class 'pandas.core.frame.DataFrame'>\n",
            "Index: 12 entries, Release date to Price\n",
            "Data columns (total 12 columns):\n",
            " #   Column                   Non-Null Count  Dtype  \n",
            "---  ------                   --------------  -----  \n",
            " 0   Release date             12 non-null     float64\n",
            " 1   Max resolution           12 non-null     float64\n",
            " 2   Low resolution           12 non-null     float64\n",
            " 3   Effective pixels         12 non-null     float64\n",
            " 4   Zoom wide (W)            12 non-null     float64\n",
            " 5   Zoom tele (T)            12 non-null     float64\n",
            " 6   Normal focus range       12 non-null     float64\n",
            " 7   Macro focus range        12 non-null     float64\n",
            " 8   Storage included         12 non-null     float64\n",
            " 9   Weight (inc. batteries)  12 non-null     float64\n",
            " 10  Dimensions               12 non-null     float64\n",
            " 11  Price                    12 non-null     float64\n",
            "dtypes: float64(12)\n",
            "memory usage: 1.2+ KB\n"
          ]
        }
      ],
      "source": [
        "# Pengecekan Informasi Data\n",
        "df.info()"
      ]
    },
    {
      "cell_type": "code",
      "execution_count": null,
      "metadata": {
        "colab": {
          "base_uri": "https://localhost:8080/",
          "height": 654
        },
        "id": "yKnyiTvP8Spo",
        "outputId": "059d4dbe-55b3-4d7e-bedb-8ade091891b5"
      },
      "outputs": [
        {
          "data": {
            "text/html": [
              "<div>\n",
              "<style scoped>\n",
              "    .dataframe tbody tr th:only-of-type {\n",
              "        vertical-align: middle;\n",
              "    }\n",
              "\n",
              "    .dataframe tbody tr th {\n",
              "        vertical-align: top;\n",
              "    }\n",
              "\n",
              "    .dataframe thead th {\n",
              "        text-align: right;\n",
              "    }\n",
              "</style>\n",
              "<table border=\"1\" class=\"dataframe\">\n",
              "  <thead>\n",
              "    <tr style=\"text-align: right;\">\n",
              "      <th></th>\n",
              "      <th>Release date</th>\n",
              "      <th>Max resolution</th>\n",
              "      <th>Low resolution</th>\n",
              "      <th>Effective pixels</th>\n",
              "      <th>Zoom wide (W)</th>\n",
              "      <th>Zoom tele (T)</th>\n",
              "      <th>Normal focus range</th>\n",
              "      <th>Macro focus range</th>\n",
              "      <th>Storage included</th>\n",
              "      <th>Weight (inc. batteries)</th>\n",
              "      <th>Dimensions</th>\n",
              "      <th>Price</th>\n",
              "    </tr>\n",
              "  </thead>\n",
              "  <tbody>\n",
              "    <tr>\n",
              "      <th>Release date</th>\n",
              "      <td>1.000000</td>\n",
              "      <td>0.788682</td>\n",
              "      <td>0.745426</td>\n",
              "      <td>0.790742</td>\n",
              "      <td>-0.070643</td>\n",
              "      <td>0.192601</td>\n",
              "      <td>-0.074297</td>\n",
              "      <td>-0.253152</td>\n",
              "      <td>0.213093</td>\n",
              "      <td>-0.259681</td>\n",
              "      <td>-0.248877</td>\n",
              "      <td>-0.023249</td>\n",
              "    </tr>\n",
              "    <tr>\n",
              "      <th>Max resolution</th>\n",
              "      <td>0.788682</td>\n",
              "      <td>1.000000</td>\n",
              "      <td>0.838381</td>\n",
              "      <td>0.953949</td>\n",
              "      <td>-0.372648</td>\n",
              "      <td>0.069073</td>\n",
              "      <td>-0.199703</td>\n",
              "      <td>-0.346806</td>\n",
              "      <td>0.166222</td>\n",
              "      <td>0.106678</td>\n",
              "      <td>-0.000057</td>\n",
              "      <td>0.183202</td>\n",
              "    </tr>\n",
              "    <tr>\n",
              "      <th>Low resolution</th>\n",
              "      <td>0.745426</td>\n",
              "      <td>0.838381</td>\n",
              "      <td>1.000000</td>\n",
              "      <td>0.815669</td>\n",
              "      <td>-0.206905</td>\n",
              "      <td>0.154279</td>\n",
              "      <td>-0.125364</td>\n",
              "      <td>-0.315368</td>\n",
              "      <td>0.156652</td>\n",
              "      <td>-0.044927</td>\n",
              "      <td>-0.105585</td>\n",
              "      <td>0.154179</td>\n",
              "    </tr>\n",
              "    <tr>\n",
              "      <th>Effective pixels</th>\n",
              "      <td>0.790742</td>\n",
              "      <td>0.953949</td>\n",
              "      <td>0.815669</td>\n",
              "      <td>1.000000</td>\n",
              "      <td>-0.327096</td>\n",
              "      <td>0.084277</td>\n",
              "      <td>-0.192413</td>\n",
              "      <td>-0.321379</td>\n",
              "      <td>0.157844</td>\n",
              "      <td>0.078198</td>\n",
              "      <td>-0.004077</td>\n",
              "      <td>0.189149</td>\n",
              "    </tr>\n",
              "    <tr>\n",
              "      <th>Zoom wide (W)</th>\n",
              "      <td>-0.070643</td>\n",
              "      <td>-0.372648</td>\n",
              "      <td>-0.206905</td>\n",
              "      <td>-0.327096</td>\n",
              "      <td>1.000000</td>\n",
              "      <td>0.364520</td>\n",
              "      <td>0.538564</td>\n",
              "      <td>0.293367</td>\n",
              "      <td>0.150968</td>\n",
              "      <td>-0.698782</td>\n",
              "      <td>-0.486542</td>\n",
              "      <td>-0.459236</td>\n",
              "    </tr>\n",
              "    <tr>\n",
              "      <th>Zoom tele (T)</th>\n",
              "      <td>0.192601</td>\n",
              "      <td>0.069073</td>\n",
              "      <td>0.154279</td>\n",
              "      <td>0.084277</td>\n",
              "      <td>0.364520</td>\n",
              "      <td>1.000000</td>\n",
              "      <td>0.167579</td>\n",
              "      <td>-0.074597</td>\n",
              "      <td>0.114075</td>\n",
              "      <td>-0.065904</td>\n",
              "      <td>-0.118171</td>\n",
              "      <td>-0.189377</td>\n",
              "    </tr>\n",
              "    <tr>\n",
              "      <th>Normal focus range</th>\n",
              "      <td>-0.074297</td>\n",
              "      <td>-0.199703</td>\n",
              "      <td>-0.125364</td>\n",
              "      <td>-0.192413</td>\n",
              "      <td>0.538564</td>\n",
              "      <td>0.167579</td>\n",
              "      <td>1.000000</td>\n",
              "      <td>0.397870</td>\n",
              "      <td>0.159605</td>\n",
              "      <td>-0.393359</td>\n",
              "      <td>-0.237108</td>\n",
              "      <td>-0.273974</td>\n",
              "    </tr>\n",
              "    <tr>\n",
              "      <th>Macro focus range</th>\n",
              "      <td>-0.253152</td>\n",
              "      <td>-0.346806</td>\n",
              "      <td>-0.315368</td>\n",
              "      <td>-0.321379</td>\n",
              "      <td>0.293367</td>\n",
              "      <td>-0.074597</td>\n",
              "      <td>0.397870</td>\n",
              "      <td>1.000000</td>\n",
              "      <td>-0.043769</td>\n",
              "      <td>-0.210554</td>\n",
              "      <td>-0.090336</td>\n",
              "      <td>-0.127660</td>\n",
              "    </tr>\n",
              "    <tr>\n",
              "      <th>Storage included</th>\n",
              "      <td>0.213093</td>\n",
              "      <td>0.166222</td>\n",
              "      <td>0.156652</td>\n",
              "      <td>0.157844</td>\n",
              "      <td>0.150968</td>\n",
              "      <td>0.114075</td>\n",
              "      <td>0.159605</td>\n",
              "      <td>-0.043769</td>\n",
              "      <td>1.000000</td>\n",
              "      <td>-0.155568</td>\n",
              "      <td>-0.114280</td>\n",
              "      <td>-0.103046</td>\n",
              "    </tr>\n",
              "    <tr>\n",
              "      <th>Weight (inc. batteries)</th>\n",
              "      <td>-0.259681</td>\n",
              "      <td>0.106678</td>\n",
              "      <td>-0.044927</td>\n",
              "      <td>0.078198</td>\n",
              "      <td>-0.698782</td>\n",
              "      <td>-0.065904</td>\n",
              "      <td>-0.393359</td>\n",
              "      <td>-0.210554</td>\n",
              "      <td>-0.155568</td>\n",
              "      <td>1.000000</td>\n",
              "      <td>0.677885</td>\n",
              "      <td>0.464760</td>\n",
              "    </tr>\n",
              "    <tr>\n",
              "      <th>Dimensions</th>\n",
              "      <td>-0.248877</td>\n",
              "      <td>-0.000057</td>\n",
              "      <td>-0.105585</td>\n",
              "      <td>-0.004077</td>\n",
              "      <td>-0.486542</td>\n",
              "      <td>-0.118171</td>\n",
              "      <td>-0.237108</td>\n",
              "      <td>-0.090336</td>\n",
              "      <td>-0.114280</td>\n",
              "      <td>0.677885</td>\n",
              "      <td>1.000000</td>\n",
              "      <td>0.264256</td>\n",
              "    </tr>\n",
              "    <tr>\n",
              "      <th>Price</th>\n",
              "      <td>-0.023249</td>\n",
              "      <td>0.183202</td>\n",
              "      <td>0.154179</td>\n",
              "      <td>0.189149</td>\n",
              "      <td>-0.459236</td>\n",
              "      <td>-0.189377</td>\n",
              "      <td>-0.273974</td>\n",
              "      <td>-0.127660</td>\n",
              "      <td>-0.103046</td>\n",
              "      <td>0.464760</td>\n",
              "      <td>0.264256</td>\n",
              "      <td>1.000000</td>\n",
              "    </tr>\n",
              "  </tbody>\n",
              "</table>\n",
              "</div>"
            ],
            "text/plain": [
              "                         Release date  Max resolution  ...  Dimensions     Price\n",
              "Release date                 1.000000        0.788682  ...   -0.248877 -0.023249\n",
              "Max resolution               0.788682        1.000000  ...   -0.000057  0.183202\n",
              "Low resolution               0.745426        0.838381  ...   -0.105585  0.154179\n",
              "Effective pixels             0.790742        0.953949  ...   -0.004077  0.189149\n",
              "Zoom wide (W)               -0.070643       -0.372648  ...   -0.486542 -0.459236\n",
              "Zoom tele (T)                0.192601        0.069073  ...   -0.118171 -0.189377\n",
              "Normal focus range          -0.074297       -0.199703  ...   -0.237108 -0.273974\n",
              "Macro focus range           -0.253152       -0.346806  ...   -0.090336 -0.127660\n",
              "Storage included             0.213093        0.166222  ...   -0.114280 -0.103046\n",
              "Weight (inc. batteries)     -0.259681        0.106678  ...    0.677885  0.464760\n",
              "Dimensions                  -0.248877       -0.000057  ...    1.000000  0.264256\n",
              "Price                       -0.023249        0.183202  ...    0.264256  1.000000\n",
              "\n",
              "[12 rows x 12 columns]"
            ]
          },
          "execution_count": 33,
          "metadata": {},
          "output_type": "execute_result"
        }
      ],
      "source": [
        "# Menentukan nilai korelasi data antar variabel\n",
        "df = df.corr()\n",
        "df"
      ]
    },
    {
      "cell_type": "code",
      "execution_count": null,
      "metadata": {
        "colab": {
          "base_uri": "https://localhost:8080/",
          "height": 521
        },
        "id": "VeHCybqUihai",
        "outputId": "1d680e8e-4445-4bab-a5f6-9c0de70ebc91"
      },
      "outputs": [
        {
          "data": {
            "image/png": "[encoded data removed]",
            "text/plain": [
              "<Figure size 1152x576 with 1 Axes>"
            ]
          },
          "metadata": {},
          "output_type": "display_data"
        }
      ],
      "source": [
        "# Visualisasi Korelasi \"Release date\" dengan \"Max resolution\"\n",
        "df.plot(kind=\"scatter\", x=\"Release date\", y=\"Max resolution\", figsize=(16,8))\n",
        "plt.title(\"Scatter plot Release date dengan Max resolution\", fontsize=18)\n",
        "plt.xlabel(\"Release date\", fontsize=14)\n",
        "plt.ylabel(\"Max resolution\", fontsize=14)\n",
        "plt.show()"
      ]
    },
    {
      "cell_type": "code",
      "execution_count": null,
      "metadata": {
        "colab": {
          "base_uri": "https://localhost:8080/",
          "height": 295
        },
        "id": "F6qhc6RLjQr7",
        "outputId": "9da90996-ca43-40a3-e2ab-407cea76e60a"
      },
      "outputs": [
        {
          "data": {
            "image/png": "[encoded data removed]",
            "text/plain": [
              "<Figure size 432x288 with 1 Axes>"
            ]
          },
          "metadata": {},
          "output_type": "display_data"
        }
      ],
      "source": [
        "# Visualisasi korelasi \"Release date\" dengan \"Low resolution\"\n",
        "df.plot(kind=\"scatter\", x=\"Release date\", y=\"Low resolution\", color=\"green\", title=\"Scatter Plot Release date dan Low resolution\")\n",
        "plt.show()"
      ]
    },
    {
      "cell_type": "code",
      "execution_count": null,
      "metadata": {
        "colab": {
          "base_uri": "https://localhost:8080/",
          "height": 295
        },
        "id": "4Wiz35BqSE_8",
        "outputId": "961be425-aab1-495f-a565-769c5943d35e"
      },
      "outputs": [
        {
          "data": {
            "image/png": "[encoded data removed]",
            "text/plain": [
              "<Figure size 432x288 with 1 Axes>"
            ]
          },
          "metadata": {},
          "output_type": "display_data"
        }
      ],
      "source": [
        "# Visualisasi korelasi \"Release date\" dengan \"Macro focus range\"\n",
        "df.plot(kind=\"scatter\", x=\"Release date\", y=\"Macro focus range\", color=\"orange\", title=\"Scatter Plot Release date dan Macro focus range\")\n",
        "plt.show()"
      ]
    },
    {
      "cell_type": "code",
      "execution_count": null,
      "metadata": {
        "colab": {
          "base_uri": "https://localhost:8080/",
          "height": 295
        },
        "id": "XTuydbOZS9Fk",
        "outputId": "905bced0-c1ec-48bc-ac54-e68f789888c8"
      },
      "outputs": [
        {
          "data": {
            "image/png": "[encoded data removed]",
            "text/plain": [
              "<Figure size 432x288 with 1 Axes>"
            ]
          },
          "metadata": {},
          "output_type": "display_data"
        }
      ],
      "source": [
        "# Visualisasi korelasi \"Release date\" dengan \"Weight (inc. batteries)\"\n",
        "df.plot(kind=\"scatter\", x=\"Release date\", y=\"Weight (inc. batteries)\", color=\"purple\", title=\"Scatter Plot Release date dan Weight (inc. batteries)\")\n",
        "plt.show()"
      ]
    },
    {
      "cell_type": "code",
      "execution_count": null,
      "metadata": {
        "colab": {
          "base_uri": "https://localhost:8080/",
          "height": 295
        },
        "id": "G3opW_xJTh3i",
        "outputId": "55cbd919-31f3-4d0d-f62f-d08bee5ca3f3"
      },
      "outputs": [
        {
          "data": {
            "image/png": "[encoded data removed]",
            "text/plain": [
              "<Figure size 432x288 with 1 Axes>"
            ]
          },
          "metadata": {},
          "output_type": "display_data"
        }
      ],
      "source": [
        "# Visualisasi korelasi \"Release date\" dengan \"Effective pixels\"\n",
        "df.plot(kind=\"scatter\", x=\"Release date\", y=\"Effective pixels\", color=\"red\", title=\"Scatter Plot Release date dan Effective pixels\")\n",
        "plt.show()"
      ]
    },
    {
      "cell_type": "markdown",
      "metadata": {
        "id": "2MEQkLi2klz1"
      },
      "source": [
        "**Data Cleansing**\n"
      ]
    },
    {
      "cell_type": "code",
      "execution_count": 59,
      "metadata": {
        "colab": {
          "base_uri": "https://localhost:8080/"
        },
        "id": "bVMG2RrZkpue",
        "outputId": "bd9f610d-ab2e-4420-c767-f78ec7e9b239"
      },
      "outputs": [
        {
          "output_type": "stream",
          "name": "stdout",
          "text": [
            "Hapus data dengan kolom Storage included dan Dimensions kosong pada camera\n",
            "Setelah data userscore yang kosong maka data camera menjadi 1036 baris\n"
          ]
        }
      ],
      "source": [
        "print(\"Hapus data dengan kolom Storage included dan Dimensions kosong pada camera\")\n",
        "df = df.loc[df[\"Storage included\"].notnull() | df[\"Dimensions\"].notnull()] \n",
        "print(\"Setelah data userscore yang kosong maka data camera menjadi \" + str(len(df)) + \" baris\")"
      ]
    },
    {
      "cell_type": "code",
      "execution_count": null,
      "metadata": {
        "colab": {
          "base_uri": "https://localhost:8080/"
        },
        "id": "T4-lK3an6Szc",
        "outputId": "0ccf66f9-1a08-4b1c-b9b8-22cc93ec2e7c"
      },
      "outputs": [
        {
          "name": "stdout",
          "output_type": "stream",
          "text": [
            "Hapus data dengan kolom Macro focus range dan Weight (inc. batteries) kosong pada camera\n",
            "Setelah data userscore yang kosong maka data camera menjadi 1036 baris\n"
          ]
        }
      ],
      "source": [
        "print(\"Hapus data dengan kolom Macro focus range dan Weight (inc. batteries) kosong pada camera\")\n",
        "df = df.loc[df[\"Macro focus range\"].notnull() | df[\"Weight (inc. batteries)\"].notnull()] \n",
        "print(\"Setelah data userscore yang kosong maka data camera menjadi \" + str(len(df)) + \" baris\")"
      ]
    }
  ],
  "metadata": {
    "colab": {
      "provenance": []
    },
    "kernelspec": {
      "display_name": "Python 3",
      "name": "python3"
    },
    "language_info": {
      "name": "python"
    }
  },
  "nbformat": 4,
  "nbformat_minor": 0
}